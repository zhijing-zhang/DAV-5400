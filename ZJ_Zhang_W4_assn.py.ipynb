{
 "cells": [
  {
   "cell_type": "markdown",
   "metadata": {},
   "source": [
    "##### ZJ_Zhang_W4_assn.py"
   ]
  },
  {
   "cell_type": "markdown",
   "metadata": {},
   "source": [
    "##### There is a question after task4"
   ]
  },
  {
   "cell_type": "markdown",
   "metadata": {},
   "source": [
    "#### Task1:\n",
    "\n",
    "Write a Python/NumPy code block that finds the distinct/unique common items between these two arrays:\n",
    "a = np.array([1, 2, 3, 2, 3, 4, 3, 4, 5, 6])\n",
    "b = np.array([7, 2, 10, 2, 7, 4, 9, 4, 9, 8])\n",
    "\n",
    "- using some numpy functions"
   ]
  },
  {
   "cell_type": "code",
   "execution_count": 1,
   "metadata": {},
   "outputs": [
    {
     "name": "stdout",
     "output_type": "stream",
     "text": [
      "Use intersect1d to output elements common to a and b: [2 4]\n",
      "Use setdiff1d to output elements that are not in b in a: [1 3 5 6]\n",
      "Use setdiff1d to output elements that are not in a in b: [ 7  8  9 10]\n",
      "Use union1d to output elements common to a and b: [ 1  2  3  4  5  6  7  8  9 10]\n"
     ]
    }
   ],
   "source": [
    "import numpy as np\n",
    "\n",
    "# Task1\n",
    "\n",
    "a = np.array([1, 2, 3, 2, 3, 4, 3, 4, 5, 6])\n",
    "b = np.array([7, 2, 10, 2, 7, 4, 9, 4, 9, 8])\n",
    "\n",
    "print(\"Use intersect1d to output elements common to a and b:\", np.intersect1d(a,b))\n",
    "print(\"Use setdiff1d to output elements that are not in b in a:\", np.setdiff1d(a,b))\n",
    "print(\"Use setdiff1d to output elements that are not in a in b:\", np.setdiff1d(b,a))\n",
    "print(\"Use union1d to output elements common to a and b:\", np.union1d(a,b))\n"
   ]
  },
  {
   "cell_type": "markdown",
   "metadata": {},
   "source": [
    "#### Task2:\n",
    "\n",
    "Create the following 5x3 array\n",
    "- using reshapt() \n",
    "- using T to convert"
   ]
  },
  {
   "cell_type": "code",
   "execution_count": 2,
   "metadata": {},
   "outputs": [
    {
     "name": "stdout",
     "output_type": "stream",
     "text": [
      "[[ 1  6 11]\n",
      " [ 2  7 12]\n",
      " [ 3  8 13]\n",
      " [ 4  9 14]\n",
      " [ 5 10 15]]\n"
     ]
    }
   ],
   "source": [
    "arr = np.arange(1,16).reshape(3,5)\n",
    "arr = arr.T\n",
    "print(arr)"
   ]
  },
  {
   "cell_type": "markdown",
   "metadata": {},
   "source": [
    "#### Task3:\n",
    "\n",
    "a = np.array([12, 5, 7, 15, 3, 1, 8])\n",
    "b = np.array([14, 6, 3, 11, 19, 12, 5])\n",
    "removes from array a any items that are also present in array b.\n",
    "- using delete()"
   ]
  },
  {
   "cell_type": "code",
   "execution_count": 3,
   "metadata": {},
   "outputs": [
    {
     "name": "stdout",
     "output_type": "stream",
     "text": [
      "[ 7 15  1  8]\n"
     ]
    }
   ],
   "source": [
    "a = np.array([12, 5, 7, 15, 3, 1, 8])\n",
    "b = np.array([14, 6, 3, 11, 19, 12, 5])\n",
    "\n",
    "index = [x for x in range(len(a)) for y in range(len(b)) if a[x]==b[y]]\n",
    "\n",
    "print(np.delete(a,index))"
   ]
  },
  {
   "cell_type": "markdown",
   "metadata": {},
   "source": [
    "#### Task4:\n",
    "\n",
    "odometer"
   ]
  },
  {
   "cell_type": "markdown",
   "metadata": {},
   "source": [
    "##### before doing\n",
    "- Actually, i have two ideas about this task. And i'm not sure which one is this task asking for.\n",
    "\n",
    "- First, supposing that i create a whole NumPy array as a odometer one time, which is the plan i made in advance, and it has a 35 days' odometer plan covering the entire distance between NYC and Key West. and i can use the sequence number to show my cumulative miles of every day. \n",
    "    This is a simple one, just creating an array.\n",
    "\n",
    "- Second, i create a NumPy array,which would be populated with the camulative miles of odometer once a day, so i need 35 times to complete this array. And it could be checked using sequence number of date. \n",
    "    But the problem is that how can i know that i could complete this ride tour in 35 days? If i can control the ride plan, that means i know the entire plan in advanced. It is contradictory.\n",
    "\n",
    "- I'm confused with these two ideas. So i tried to solve it in these two ways."
   ]
  },
  {
   "cell_type": "markdown",
   "metadata": {},
   "source": [
    "##### the first idea:\n",
    "- i generate a random array using numpy, and limit the speed and the entire distance.\n",
    "- you can control the suitable speed by yourself"
   ]
  },
  {
   "cell_type": "code",
   "execution_count": 7,
   "metadata": {
    "scrolled": false
   },
   "outputs": [
    {
     "name": "stdout",
     "output_type": "stream",
     "text": [
      "66\n",
      "98\n",
      "151\n",
      "207\n",
      "259\n",
      "302\n",
      "347\n",
      "406\n",
      "443\n",
      "479\n",
      "518\n",
      "582\n",
      "649\n",
      "697\n",
      "729\n",
      "762\n",
      "825\n",
      "883\n",
      "937\n",
      "996\n",
      "1031\n",
      "1075\n",
      "1108\n",
      "1154\n",
      "1221\n",
      "1275\n",
      "1328\n",
      "1368\n",
      "1414\n",
      "1448\n",
      "1498\n",
      "1551\n",
      "\n",
      "you ride 31 days\n",
      "\n",
      "The odometer of entire ride: [<built-in function array> 66 98 151 207 259 302 347 406 443 479 518 582\n",
      " 649 697 729 762 825 883 937 996 1031 1075 1108 1154 1221 1275 1328 1368\n",
      " 1414 1448 1498 1551]\n"
     ]
    }
   ],
   "source": [
    "import numpy as np\n",
    "\n",
    "# sum is distance from 1 to here\n",
    "sum = 0\n",
    "# dist is miles of everyday\n",
    "dist = 0\n",
    "# odometer is the miles from 1 day to today.\n",
    "odometer = np.array\n",
    "\n",
    "for i in range(32):\n",
    "    # miles of everyday\n",
    "    dist = np.random.randint(30, 70)\n",
    "    sum += dist\n",
    "    print(sum)\n",
    "    odometer = np.append(odometer,sum)\n",
    "    if sum > 1547:\n",
    "        break\n",
    "\n",
    "print(\"\\nyou ride\",i,\"days\")\n",
    "print(\"\\nThe odometer of entire ride:\",odometer)"
   ]
  },
  {
   "cell_type": "markdown",
   "metadata": {},
   "source": [
    "##### after : i found that variable sum is no use. sum == odometer"
   ]
  },
  {
   "cell_type": "markdown",
   "metadata": {},
   "source": [
    "##### the second idea:\n",
    "- Here i set the day 3 to test, in this task, 31 is needed."
   ]
  },
  {
   "cell_type": "code",
   "execution_count": 5,
   "metadata": {},
   "outputs": [
    {
     "name": "stdout",
     "output_type": "stream",
     "text": [
      "\n",
      "input the day:\n",
      "1\n",
      "\n",
      "input today odometer\n",
      "55\n",
      "\n",
      "The first day rode 55 miles\n",
      "\n",
      "input the day:\n",
      "2\n",
      "\n",
      "input today odometer\n",
      "120\n",
      "\n",
      "Today is the 2 day\n",
      "\n",
      "You have been ridding: 120 miles\n",
      "\n",
      "input the day:\n",
      "3\n",
      "\n",
      "input today odometer\n",
      "165\n",
      "\n",
      "Today is the 3 day\n",
      "\n",
      "You have been ridding: 165 miles\n",
      "see the entire ride odometer: [<built-in function array> 55 120 165]\n"
     ]
    }
   ],
   "source": [
    "# odometer is the miles from 1 day to today.\n",
    "odometer = np.array\n",
    "\n",
    "# in this task, i should from 1 to 31, but here is just a test.\n",
    "# you can change the number of range.\n",
    "for i in range(3):\n",
    "    print(\"\\ninput the day:\")\n",
    "    day = int(input())\n",
    "\n",
    "    print(\"\\ninput today odometer\")\n",
    "    ot = int(input())\n",
    "    # generate a array of odometer\n",
    "    odometer = np.append(odometer,ot)\n",
    "\n",
    "    if day < 2:\n",
    "        print(\"\\nThe first day rode\",ot,\"miles\")\n",
    "    else:\n",
    "        print(\"\\nToday is the\",day,\"day\")\n",
    "        print(\"\\nYou have been ridding:\",odometer[i+1],\"miles\")\n",
    "        \n",
    "print(\"see the entire ride odometer:\",odometer)"
   ]
  },
  {
   "cell_type": "markdown",
   "metadata": {},
   "source": [
    "##### after\n",
    "### Question about numpy:\n",
    "\n",
    "Here i want to create array by the build-in function: input(), thus i have the variable a belonging to the <build-in function>, \n",
    "but the function of numpy array is used by the 'int', 'str', and so on.\n",
    "When i want to use another function of numpy, it doesn't work.\n",
    "I have tried many methods to transfer the tyoe, but failed.\n",
    "I want to know how to solve this problem.\n",
    "And does the input() can't be used in numpy?"
   ]
  },
  {
   "cell_type": "markdown",
   "metadata": {},
   "source": [
    "##### Task5:\n",
    "\n",
    "- What is the maximum yearly NYC consumption of water in millions of gallons per day?\n",
    "- How many calendar years are represented within this data set? NumPy's shape command is one way to find out.\n",
    "- What is the mean and the standard deviation of the per capita daily water consumption?\n",
    "- What is the increase or decrease in population from year to year? Use NumPy's `diff` function to create an array \n",
    "- of differences and save that to a variable called \"pop_diff\", then print that variable to the screen."
   ]
  },
  {
   "cell_type": "code",
   "execution_count": 6,
   "metadata": {},
   "outputs": [
    {
     "name": "stdout",
     "output_type": "stream",
     "text": [
      "\n",
      "maximum yearly NYC consumption of water is: 1512.0\n",
      "\n",
      "number of years is: 39\n",
      "\n",
      "mean of per capita daily water consumption is: 160.30769230769232\n",
      "\n",
      "standard deviation of per capita daily water consumption is: 31.51894330370624\n",
      "\n",
      "increase or decrease in population from year to year are:\n",
      " [-30461.   17602.   19864.   72119.   53290.   39540.   45192.   23230.\n",
      "  11243.   -9544.   -8525.   38851.   54443.   77222.   64292.   62582.\n",
      "  64772.   75631.   84816.   89401.   60618.   16685.5  16685.5  16685.5\n",
      "  16685.5  16685.5  16685.5  16685.5  16685.5  16685.5  16685.5 108965.\n",
      "  77081.   61281.   49530.   44512.   21171.   85025. ]\n"
     ]
    },
    {
     "name": "stderr",
     "output_type": "stream",
     "text": [
      "C:\\Users\\lenovo\\Anaconda3\\lib\\site-packages\\ipykernel_launcher.py:8: FutureWarning: Method .as_matrix will be removed in a future version. Use .values instead.\n",
      "  \n"
     ]
    }
   ],
   "source": [
    "import pandas\n",
    "import numpy as np\n",
    "\n",
    "# supress scientific notation\n",
    "np.set_printoptions(suppress = True)\n",
    "\n",
    "# read the data file from GitHub and convert to a NumPy ndarray object\n",
    "nyc_water = pandas.read_csv('https://raw.githubusercontent.com/jtopor/DAV-5400/master/Week4/Water_Consumption_In_The_New_York_City.csv').as_matrix()\n",
    "\n",
    "# verify you have an ndarray object\n",
    "type(nyc_water)\n",
    "\n",
    "# 1. What is the maximum yearly NYC consumption of water in millions of gallons per day?\n",
    "\n",
    "print(\"\\nmaximum yearly NYC consumption of water is:\",np.max(nyc_water[:,2]))\n",
    "\n",
    "\n",
    "# 2. How many calendar years are represented within this data set? NumPy's shape command is one way to find out.\n",
    "\n",
    "print(\"\\nnumber of years is:\",np.shape(nyc_water)[0]) #return length of the first dimension of the matrix\n",
    "\n",
    "# 3. What is the mean and the standard deviation of the per capita daily water consumption?\n",
    "\n",
    "print(\"\\nmean of per capita daily water consumption is:\",np.mean(nyc_water[:,3]))\n",
    "print(\"\\nstandard deviation of per capita daily water consumption is:\",np.std(nyc_water[:,3]))\n",
    "\n",
    "\n",
    "# 4. What is the increase or decrease in population from year to year? Use NumPy's `diff` function \n",
    "#   to create an array of differences and save that to a variable called \"pop_diff\", \n",
    "#   then print that variable to the screen.\n",
    "\n",
    "pop_diff = np.diff(nyc_water[:,1])\n",
    "print(\"\\nincrease or decrease in population from year to year are:\\n\",pop_diff)"
   ]
  }
 ],
 "metadata": {
  "kernelspec": {
   "display_name": "Python 3",
   "language": "python",
   "name": "python3"
  },
  "language_info": {
   "codemirror_mode": {
    "name": "ipython",
    "version": 3
   },
   "file_extension": ".py",
   "mimetype": "text/x-python",
   "name": "python",
   "nbconvert_exporter": "python",
   "pygments_lexer": "ipython3",
   "version": "3.7.0"
  }
 },
 "nbformat": 4,
 "nbformat_minor": 2
}
