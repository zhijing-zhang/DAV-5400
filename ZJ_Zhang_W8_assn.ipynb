{
 "cells": [
  {
   "cell_type": "markdown",
   "metadata": {},
   "source": [
    "##### ZJ_Zhang_W8_assn.py"
   ]
  },
  {
   "cell_type": "markdown",
   "metadata": {},
   "source": [
    "### Regular Expressions"
   ]
  },
  {
   "cell_type": "code",
   "execution_count": 1,
   "metadata": {},
   "outputs": [],
   "source": [
    "import numpy as np\n",
    "import pandas as pd\n",
    "import re\n",
    "\n",
    "text = \"555-1239Moe Szyslak(636) 555-0113Burns, C. Montgomery555 -6542Rev. Timothy Lovejoy555 8904Ned Flanders636-555-3226Simpson, Homer5553642Dr. Julius Hibbert\""
   ]
  },
  {
   "cell_type": "markdown",
   "metadata": {},
   "source": [
    "### task1\n",
    "\n",
    "Extract the names of each individual from the unformatted text string and store them in a vector of some sort."
   ]
  },
  {
   "cell_type": "markdown",
   "metadata": {},
   "source": [
    "For this task, i use the findall to return all non-overlapping matches of pattern in string, as a list of strings. The string is scanned left-to-right, and matches are returned in the order found."
   ]
  },
  {
   "cell_type": "code",
   "execution_count": 5,
   "metadata": {},
   "outputs": [
    {
     "name": "stdout",
     "output_type": "stream",
     "text": [
      "['Moe Szyslak', 'Burns, C. Montgomery', 'Timothy Lovejoy', 'Ned Flanders', 'Simpson, Homer', 'Julius Hibbert']\n"
     ]
    }
   ],
   "source": [
    "name = re.findall(r\"[A-Z][a-z]+,?\\s+(?:[A-Z][a-z]*\\.?\\s*)?[A-Z][a-z]+\", text)\n",
    "print(name)"
   ]
  },
  {
   "cell_type": "markdown",
   "metadata": {},
   "source": [
    "### task2\n",
    "\n",
    "Using your new vector containing only the names of the six individuals, complete the following tasks:"
   ]
  },
  {
   "cell_type": "markdown",
   "metadata": {},
   "source": [
    "- a. Use your regex skills to rearrange the vector so that all elements conform to the standard “firstname \n",
    "    lastname”, preserving any titles (e.g., “Rev.”, “Dr.”, etc) or middle/second names."
   ]
  },
  {
   "cell_type": "markdown",
   "metadata": {},
   "source": [
    "For this task, i use the findall to return all non-overlapping matches of pattern in string, as a list of strings. The string is scanned left-to-right, and matches are returned in the order found.\n",
    "\n",
    "- Identify title as a capital letter followed by lowercase letters with two more minimal characters no min, and end with a period.\n",
    "- Identify name as a capital letter followed by lowercase letters with two more minimal characters no min, and end with space.\n",
    "- Identify middle name as a capital letter followed by period."
   ]
  },
  {
   "cell_type": "code",
   "execution_count": 6,
   "metadata": {},
   "outputs": [
    {
     "data": {
      "text/plain": [
       "['Moe Szyslak',\n",
       " 'Burns, C. Montgomery',\n",
       " 'Rev. Timothy Lovejoy',\n",
       " 'Ned Flanders',\n",
       " 'Simpson, Homer',\n",
       " 'Dr. Julius Hibbert']"
      ]
     },
     "execution_count": 6,
     "metadata": {},
     "output_type": "execute_result"
    }
   ],
   "source": [
    "TITLE = r\"(?:[A-Z][a-z]*\\.\\s*)?\"\n",
    "NAME1 = r\"[A-Z][a-z]+,?\\s+\"\n",
    "MIDDLE_I = r\"(?:[A-Z][a-z]*\\.?\\s*)?\"\n",
    "NAME2 = r\"[A-Z][a-z]+\"  \n",
    "name = re.findall(TITLE + NAME1 + MIDDLE_I + NAME2, text)\n",
    "name"
   ]
  },
  {
   "cell_type": "markdown",
   "metadata": {},
   "source": [
    "- b. Construct a logical vector indicating whether a character has a title (i.e., Rev. and Dr.)."
   ]
  },
  {
   "cell_type": "markdown",
   "metadata": {},
   "source": [
    "For this task, i use the **search** function in regex to scan through string looking for the first location where this regular expression produces a match, and return a corresponding match object.\n",
    "\n",
    "**Identify title as a lowercase letter followed by period.**"
   ]
  },
  {
   "cell_type": "code",
   "execution_count": 7,
   "metadata": {},
   "outputs": [
    {
     "name": "stdout",
     "output_type": "stream",
     "text": [
      "Moe Szyslak FALSE\n",
      "Burns, C. Montgomery FALSE\n",
      "Rev. Timothy Lovejoy TRUE\n",
      "Ned Flanders FALSE\n",
      "Simpson, Homer FALSE\n",
      "Dr. Julius Hibbert TRUE\n"
     ]
    }
   ],
   "source": [
    "#CHECK FOR TITLE\n",
    "for n in name:\n",
    "    if re.search(r\"[a-z][.][\\s]\", n):\n",
    "        print(n + \" TRUE\")\n",
    "    else:\n",
    "        print(n + \" FALSE\")"
   ]
  },
  {
   "cell_type": "markdown",
   "metadata": {},
   "source": [
    "- c. Construct a logical vector indicating whether a character has a middle/second name."
   ]
  },
  {
   "cell_type": "markdown",
   "metadata": {},
   "source": [
    "For this task, i use the **search** function in regex to scan through string looking for the first location where this regular expression produces a match, and return a corresponding match object.\n",
    "\n",
    "**Identify middle name as a capital letter followed period.**"
   ]
  },
  {
   "cell_type": "code",
   "execution_count": 8,
   "metadata": {},
   "outputs": [
    {
     "name": "stdout",
     "output_type": "stream",
     "text": [
      "Moe Szyslak FALSE\n",
      "Burns, C. Montgomery TRUE\n",
      "Rev. Timothy Lovejoy FALSE\n",
      "Ned Flanders FALSE\n",
      "Simpson, Homer FALSE\n",
      "Dr. Julius Hibbert FALSE\n"
     ]
    }
   ],
   "source": [
    "#CHECK FOR MIDDLE INITIAL\n",
    "for n in name:\n",
    "    if re.search(r\"[\\s][A-Z][.][\\s]\", n):\n",
    "        print(n + \" TRUE\")\n",
    "    else:\n",
    "        print(n + \" FALSE\")"
   ]
  },
  {
   "cell_type": "markdown",
   "metadata": {},
   "source": [
    "### task3\n",
    "\n",
    "Consider the HTML string '<'title'>'+++BREAKING NEWS+++title. \n",
    "\n",
    "We would like to extract the first HTML tag (i.e., “title”). To do so we write the regular expression “.+”. Explain why this fails and correct the expression."
   ]
  },
  {
   "cell_type": "markdown",
   "metadata": {},
   "source": [
    "For this task:\n",
    "\n",
    "**'<'title'>'+++BREAKING NEWS+++'<'title'>'**\n",
    "- <.+> is wrong and should correct it\n",
    "- this maybe the difference between \"+\" and \"+?\"\n",
    "- \"+\" finds the longest substring, then tries to match as few characters as possible (ungreedy or reluctant)\n",
    "- \"+?\" find the shortest substring, tries to match as much characters as possible (greedy)\n",
    "        \n",
    "**<.+?> is correct**"
   ]
  },
  {
   "cell_type": "code",
   "execution_count": 9,
   "metadata": {},
   "outputs": [
    {
     "data": {
      "text/plain": [
       "<re.Match object; span=(0, 7), match='<title>'>"
      ]
     },
     "execution_count": 9,
     "metadata": {},
     "output_type": "execute_result"
    }
   ],
   "source": [
    "html_tag = \"<title>+++BREAKING NEWS+++<title>\"       \n",
    "re.match(r\"<.+?>\", html_tag)"
   ]
  },
  {
   "cell_type": "markdown",
   "metadata": {},
   "source": [
    "The result shows that matching '<'title'>' successfully."
   ]
  },
  {
   "cell_type": "markdown",
   "metadata": {},
   "source": [
    "### task4\n",
    "Consider the string “(5-3)^2=5^2-2*5*3+3^2” conforms to the binomial theorem. We would like to extract the formula in the string. To do so we write the regular expression “[^0-9=+*()]+”. Explain why this fails and correct the expression."
   ]
  },
  {
   "cell_type": "markdown",
   "metadata": {},
   "source": [
    "For this task:\n",
    "\n",
    "**\"(5-3)^2=5^2-2*5*3+3**\n",
    "- [^...]: NOT ONE of the character, e.g., [^0-9] matches any non-digit.\n",
    "- The \"^\" raises all the characters at its end, and the \"-\" makes an inclusion in the character class.\n",
    "\n",
    "**\"[0-9=+*()^-]+\"  is correct**"
   ]
  },
  {
   "cell_type": "code",
   "execution_count": 16,
   "metadata": {},
   "outputs": [
    {
     "data": {
      "text/plain": [
       "<re.Match object; span=(0, 19), match='(5-3)^2=5^2-2*5*3+3'>"
      ]
     },
     "execution_count": 16,
     "metadata": {},
     "output_type": "execute_result"
    }
   ],
   "source": [
    "data = \"(5-3)^2=5^2-2*5*3+3\"\n",
    "re.match(r\"[0-9=+*()^-]+\", data)"
   ]
  },
  {
   "cell_type": "markdown",
   "metadata": {},
   "source": [
    "The result shows that matching '(5-3)^2=5^2-2*5*3+3' successfully."
   ]
  },
  {
   "cell_type": "markdown",
   "metadata": {},
   "source": [
    "##### Referance:\n",
    "* https://docs.python.org/3/library/re.html\n",
    "* https://stackoverflow.com/questions/55194224/extract-names-from-string-with-python-regex/55194304\n",
    "* https://rstudio-pubs-static.s3.amazonaws.com/155015_190830774e9b4a32aec8ae48683a583f.html"
   ]
  }
 ],
 "metadata": {
  "kernelspec": {
   "display_name": "Python 3",
   "language": "python",
   "name": "python3"
  },
  "language_info": {
   "codemirror_mode": {
    "name": "ipython",
    "version": 3
   },
   "file_extension": ".py",
   "mimetype": "text/x-python",
   "name": "python",
   "nbconvert_exporter": "python",
   "pygments_lexer": "ipython3",
   "version": "3.7.0"
  }
 },
 "nbformat": 4,
 "nbformat_minor": 2
}
