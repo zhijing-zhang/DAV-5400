{
 "cells": [
  {
   "cell_type": "markdown",
   "metadata": {},
   "source": [
    "### Introduction\n",
    "\n",
    "Keeping tracking all relevant Twitter content about certain thing in real-time has been the main source of network power to perform analysis as topic emerge and detect anomaly with alert to deliver better experiences for customers across the world.\n",
    "\n",
    "- What is sentiment analysis?\n",
    "\n",
    "Sentiment Analysis is the process of ‘computationally’ determining whether a piece of writing is positive, negative or neutral. It’s also known as opinion mining, deriving the opinion or attitude of a speaker.\n",
    "\n",
    "- Why sentiment analysis?\n",
    "\n",
    "Business: In marketing field companies use it to develop their strategies, to understand customers’ feelings towards products or brand, how people respond to their campaigns or product launches and why consumers don’t buy some products.\n",
    "\n",
    "Politics: In political field, it is used to keep track of political view, to detect consistency and inconsistency between statements and actions at the government level. It can be used to predict election results as well!\n",
    "\n",
    "Public Actions: Sentiment analysis also is used to monitor and analyse social phenomena, for the spotting of potentially dangerous situations and determining the general mood of the blogosphere.\n",
    "\n",
    "\n",
    "### Research Question\n",
    "\n",
    "I want to make a real-time sentiment analisis map of tweets. \n",
    "\n",
    "For example, if i input the Yeshiva into the filter, there would be a map with all plots showing the user and their tweets which about the Yeshiva, not only from the Hashtags, but the content mentioned.\n",
    "\n",
    "\n",
    "### Data to be Used\n",
    "\n",
    "Collecting Twitter Data using Streaming **Twitter API** with **Tweepy**, and  some **other files** from the dataset website such as the logo of some brand and other information of the oriented target.\n",
    "\n",
    "\n",
    "### Approach\n",
    "\n",
    "Extract streaming Twitter Data, preprocess data in Python, and load data into **MySQL** for storage\n",
    "Perform exploratory data analysis with **Pandas & Seaborn** to explore the insights\n",
    "Connect with **Plotly** for real-time interactive dashboard based on time series\n",
    "\n",
    "\n",
    "### References:\n",
    "\n",
    "https://github.com/Chulong-Li/Real-time-Sentiment-Tracking-on-Twitter-for-Brand-Improvement-and-Trend-Recognitionflaskframework.\n",
    "https://github.com/bidyutchanda/Tweet-based-Trends-plotting-using-Hashtags\n",
    "https://github.com/Debanik/Tweet-based-Trends-plotting-using-Hashtags\n",
    "https://piratefache.ch/display-real-time-tweets-on-a-map-with-basemap-and-tweepy/\n"
   ]
  }
 ],
 "metadata": {
  "kernelspec": {
   "display_name": "Python 3",
   "language": "python",
   "name": "python3"
  },
  "language_info": {
   "codemirror_mode": {
    "name": "ipython",
    "version": 3
   },
   "file_extension": ".py",
   "mimetype": "text/x-python",
   "name": "python",
   "nbconvert_exporter": "python",
   "pygments_lexer": "ipython3",
   "version": "3.7.0"
  }
 },
 "nbformat": 4,
 "nbformat_minor": 2
}
