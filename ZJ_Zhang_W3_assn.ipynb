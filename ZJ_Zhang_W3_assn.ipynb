{
 "cells": [
  {
   "cell_type": "markdown",
   "metadata": {},
   "source": [
    "##### ZJ_Zhang_W3_assn.py"
   ]
  },
  {
   "cell_type": "markdown",
   "metadata": {},
   "source": [
    "#### Create\n",
    "* new list\n",
    "* paste of my code from last week\n"
   ]
  },
  {
   "cell_type": "code",
   "execution_count": 2,
   "metadata": {},
   "outputs": [
    {
     "name": "stdout",
     "output_type": "stream",
     "text": [
      "This is price_list:\n",
      "['high', 'high', 'high', 'high', 'vhigh', 'low', 'med', 'low', 'vhigh', 'vhigh', 'low', 'vhigh', 'high', 'low', 'high', 'vhigh', 'med', 'high', 'low', 'low', 'med', 'low', 'vhigh', 'med', 'low', 'vhigh', 'med', 'high', 'low', 'med', 'high', 'high', 'low', 'vhigh', 'high']\n",
      "This is Maintenance_cost_list:\n",
      "['high', 'high', 'high', 'low', 'low', 'high', 'med', 'low', 'low', 'high', 'low', 'low', 'low', 'vhigh', 'low', 'high', 'med', 'low', 'low', 'low', 'high', 'low', 'high', 'vhigh', 'vhigh', 'low', 'vhigh', 'high', 'high', 'high', 'low', 'vhigh', 'low', 'vhigh', 'low']\n",
      "This is Number_of_doors:\n",
      "['2', '4', '4', '2', '3', '2', '4', '3', '2', '4', '2', '4', '2', '3', '5more', '2', '2', '5more', '3', '2', '4', '2', '5more', '2', '4', '3', '3', '3', '5more', '5more', '3', '5more', '5more', '4', '3']\n",
      "This is Number_of_passengers:\n",
      "['4', 'more', 'more', 'more', '2', '2', 'more', '2', '2', '4', '2', 'more', '4', 'more', '2', 'more', '2', '4', 'more', '2', '2', '2', '4', '2', '4', 'more', '4', '4', '2', '2', '4', '4', '2', '2', '2']\n",
      "This is Luggage_capacity:\n",
      "['med', 'small', 'big', 'big', 'med', 'small', 'med', 'big', 'small', 'med', 'med', 'small', 'big', 'big', 'big', 'med', 'small', 'med', 'med', 'big', 'big', 'small', 'med', 'big', 'big', 'big', 'small', 'med', 'big', 'med', 'med', 'med', 'med', 'big', 'big']\n",
      "This is Safety_rating:\n",
      "['low', 'high', 'low', 'high', 'med', 'low', 'high', 'med', 'low', 'low', 'med', 'high', 'med', 'low', 'med', 'high', 'low', 'high', 'high', 'med', 'high', 'high', 'med', 'low', 'low', 'low', 'low', 'med', 'low', 'med', 'high', 'med', 'low', 'high', 'high']\n",
      "This is Classification_of_vehicle:\n",
      "['unacc', 'acc', 'unacc', 'acc', 'unacc', 'unacc', 'vgood', 'unacc', 'unacc', 'unacc', 'unacc', 'acc', 'acc', 'unacc', 'unacc', 'unacc', 'unacc', 'acc', 'vgood', 'unacc', 'unacc', 'unacc', 'unacc', 'unacc', 'unacc', 'unacc', 'unacc', 'unacc', 'unacc', 'unacc', 'acc', 'unacc', 'unacc', 'unacc', 'unacc']\n"
     ]
    }
   ],
   "source": [
    "import csv\n",
    "# be sure to update the path below to reflect your own environment!!\n",
    "# also be sure that the code is properly indented after you paste it!\n",
    "with open('C:/Users/lenovo/Desktop/Analytic Programming/week2/cars-sample35.txt') as csvfile:\n",
    "    \n",
    "# create 7 blank list\n",
    "    price_list = []\n",
    "    Maintenance_cost_list = []\n",
    "    Number_of_doors = []\n",
    "    Number_of_passengers = []\n",
    "    Luggage_capacity = []\n",
    "    Safety_rating = []\n",
    "    Classification_of_vehicle = []\n",
    "\n",
    "# read file\n",
    "    readCSV = csv.reader(csvfile)\n",
    "    for row in readCSV:\n",
    "        \n",
    "# using append() function to put the data into list        \n",
    "        price_list.append(row[0])\n",
    "        \n",
    "        Maintenance_cost_list.append(row[1])\n",
    "        \n",
    "        Number_of_doors.append(row[2])\n",
    "        \n",
    "        Number_of_passengers.append(row[3])\n",
    "        \n",
    "        Luggage_capacity.append(row[4])\n",
    "        \n",
    "        Safety_rating.append(row[5])\n",
    "        \n",
    "        Classification_of_vehicle.append(row[6])\n",
    "        \n",
    "#show result        \n",
    "    print('This is price_list:')    \n",
    "    print(price_list)\n",
    "    \n",
    "    print('This is Maintenance_cost_list:') \n",
    "    print(Maintenance_cost_list)\n",
    "    \n",
    "    print('This is Number_of_doors:')\n",
    "    print(Number_of_doors)\n",
    "    \n",
    "    print('This is Number_of_passengers:')\n",
    "    print(Number_of_passengers)\n",
    "    \n",
    "    print('This is Luggage_capacity:')\n",
    "    print(Luggage_capacity)\n",
    "    \n",
    "    print('This is Safety_rating:')\n",
    "    print(Safety_rating)\n",
    "    \n",
    "    print('This is Classification_of_vehicle:')\n",
    "    print(Classification_of_vehicle)\n",
    "    "
   ]
  },
  {
   "cell_type": "markdown",
   "metadata": {},
   "source": [
    "#### Task1\n",
    " \n",
    "* find the list index values of each automobile having a price rating of \"med\". \n",
    "* using a list comprehension replacing for loop.\n"
   ]
  },
  {
   "cell_type": "code",
   "execution_count": 3,
   "metadata": {},
   "outputs": [
    {
     "name": "stdout",
     "output_type": "stream",
     "text": [
      "\n",
      "Here are the index value of each automobile having a price rating of med:\n",
      "[6, 16, 20, 23, 26, 29]\n"
     ]
    }
   ],
   "source": [
    "task1list = []\n",
    "# list comprehension\n",
    "task1list = [i for i in range(0,len(price_list)) if price_list[i] == 'med']\n",
    "print('\\nHere are the index value of each automobile having a price rating of med:')\n",
    "print(task1list)"
   ]
  },
  {
   "cell_type": "markdown",
   "metadata": {},
   "source": [
    "#### Task2\n",
    "    \n",
    "* find the \"number of passengers\" value for each auto having a \"price\" value of \"med\". \n",
    "* using a list comprehension replacing for loop.\n"
   ]
  },
  {
   "cell_type": "code",
   "execution_count": 4,
   "metadata": {},
   "outputs": [
    {
     "name": "stdout",
     "output_type": "stream",
     "text": [
      "\n",
      "Here are number of passengers\" value for each auto having a \"price\" value of \"med\":\n",
      "['more', '2', '2', '2', '4', '2']\n"
     ]
    }
   ],
   "source": [
    "task2list = []\n",
    "# list comprehension\n",
    "task2list = [Number_of_passengers[i] for i in task1list]\n",
    "print('\\nHere are number of passengers\" value for each auto having a \"price\" value of \"med\":')\n",
    "print(task2list)"
   ]
  },
  {
   "cell_type": "markdown",
   "metadata": {},
   "source": [
    "#### Task3\n",
    "\n",
    "* find the index value for each automobile having a price value of \"high\" and a maintenance value that is not \"low\".\n",
    "* using a list comprehension replacing for loop.\n"
   ]
  },
  {
   "cell_type": "code",
   "execution_count": 5,
   "metadata": {},
   "outputs": [
    {
     "name": "stdout",
     "output_type": "stream",
     "text": [
      "\n",
      "Here are index value of task3 result:\n",
      "[0, 1, 2, 27, 31]\n"
     ]
    }
   ],
   "source": [
    "task3list = []\n",
    "# list comprehension\n",
    "task3list = [i for i in range(0,len(price_list)) if (price_list[i] == 'high') & (Maintenance_cost_list[i] != 'low')]\n",
    "print('\\nHere are index value of task3 result:')\n",
    "print(task3list)"
   ]
  },
  {
   "cell_type": "markdown",
   "metadata": {},
   "source": [
    "> Task1-Task3 are the list comprehension version of last week task, they all replace the simple for loop with a list comprehension.\n",
    "> Task3 has a condition if, just put it in order in list comprehension."
   ]
  },
  {
   "cell_type": "markdown",
   "metadata": {},
   "source": [
    "#### Task4\n",
    "\n",
    "* Nested List Comprehensions.\n",
    "* extract each individual element of the component lists contained within nlist and add them to a new list.\n"
   ]
  },
  {
   "cell_type": "code",
   "execution_count": 6,
   "metadata": {},
   "outputs": [
    {
     "name": "stdout",
     "output_type": "stream",
     "text": [
      "\n",
      "Here are flist:\n",
      "[1, 2, 3, 'A', 'B', 'C', 4, 5, 'D', 'E']\n"
     ]
    }
   ],
   "source": [
    "nlist = [ [1, 2, 3], ['A', 'B', 'C'], [4, 5], ['D','E'] ]\n",
    "flist = []\n",
    "# nested for loop\n",
    "# for x in nlist:\n",
    "#     for y in x:\n",
    "#       flist.append(y)\n",
    "flist = [y for x in nlist for y in x]\n",
    "print('\\nHere are flist:')\n",
    "print(flist)"
   ]
  },
  {
   "cell_type": "markdown",
   "metadata": {},
   "source": [
    "> To complete this nested loop using a list comprehension, you just need put the nested query from out to in, from left to right, in order, in one quary."
   ]
  },
  {
   "cell_type": "markdown",
   "metadata": {},
   "source": [
    "#### Task5\n",
    "\n",
    "* Write a Function That Converts a List to a Dict Object.\n",
    "* create a user defined function and returns a Python dict object.\n"
   ]
  },
  {
   "cell_type": "code",
   "execution_count": 7,
   "metadata": {},
   "outputs": [
    {
     "name": "stdout",
     "output_type": "stream",
     "text": [
      "\n",
      "test: {'A0': 'med', 'A1': 'small', 'A2': 'big', 'A3': 'big', 'A4': 'med'}\n"
     ]
    }
   ],
   "source": [
    "def makedict(mylist, x):\n",
    "    newdict = {}\n",
    "# Transfer int i to str i to complete A+i\n",
    "# Dynamic variable\n",
    "# list comprehension\n",
    "    if x <= len(mylist):\n",
    "        newdict = { 'A'+str(i) : mylist[i] for i in range(x)} \n",
    "        return(newdict)\n",
    "    else:\n",
    "        return(\"error:exceed the length!\")\n",
    "    \n",
    "print(\"\\ntest:\",makedict(Luggage_capacity,5))\n"
   ]
  },
  {
   "cell_type": "markdown",
   "metadata": {},
   "source": [
    "> Task5 is the biggest challenge for me in this assignment, for that i tried many methods to combine letter 'A' and the alphanumeric representation of the index value, but the results were always \"incorrect operation with \"int\" and \"string\". \n",
    "> Finally, i transfered the order i into the string just with the (str), then it worked.\n",
    "> I guess maybe this is Dynamic Variable."
   ]
  },
  {
   "cell_type": "markdown",
   "metadata": {},
   "source": [
    "#### Task6\n",
    "\n",
    "* Using Your New Function.\n",
    "* use makedict() to create two new dict objects containing the first seven elements of the ‘Price’ and ‘Luggage’ lists.\n"
   ]
  },
  {
   "cell_type": "code",
   "execution_count": 8,
   "metadata": {},
   "outputs": [
    {
     "name": "stdout",
     "output_type": "stream",
     "text": [
      "\n",
      "Here are the first seven elements of the ‘Price’:\n",
      "{'A0': 'high', 'A1': 'high', 'A2': 'high', 'A3': 'high', 'A4': 'vhigh', 'A5': 'low', 'A6': 'med'}\n",
      "\n",
      "Here are the first seven elements of the ‘Luggage’:\n",
      "{'A0': 'med', 'A1': 'small', 'A2': 'big', 'A3': 'big', 'A4': 'med', 'A5': 'small', 'A6': 'med'}\n"
     ]
    }
   ],
   "source": [
    "Price_new = {}\n",
    "Luggage_new = {}\n",
    "\n",
    "Price_new = makedict(price_list, 7)\n",
    "Luggage_new = makedict(Luggage_capacity, 7)\n",
    "\n",
    "print(\"\\nHere are the first seven elements of the ‘Price’:\")\n",
    "print(Price_new)\n",
    "print(\"\\nHere are the first seven elements of the ‘Luggage’:\")\n",
    "print(Luggage_new)\n"
   ]
  },
  {
   "cell_type": "markdown",
   "metadata": {},
   "source": [
    "#### Task7\n",
    "\n",
    "* Using Your New Function\n",
    "* the price and luggage capacity of the auto identified by the ‘A4’ key value.\n"
   ]
  },
  {
   "cell_type": "code",
   "execution_count": 10,
   "metadata": {},
   "outputs": [
    {
     "name": "stdout",
     "output_type": "stream",
     "text": [
      "\n",
      "Here is 'A4' of Price:\n",
      "vhigh\n",
      "\n",
      "Here is 'A4' of Luggage:\n",
      "med\n"
     ]
    }
   ],
   "source": [
    "print(\"\\nHere is 'A4' of Price:\")\n",
    "print(Price_new['A4'])\n",
    "print(\"\\nHere is 'A4' of Luggage:\")\n",
    "print(Luggage_new['A4'])\n"
   ]
  },
  {
   "cell_type": "markdown",
   "metadata": {},
   "source": [
    "> Task6 and Task7 are just use of function, not only my function, but all functions can be used in these ways."
   ]
  }
 ],
 "metadata": {
  "kernelspec": {
   "display_name": "Python 3",
   "language": "python",
   "name": "python3"
  },
  "language_info": {
   "codemirror_mode": {
    "name": "ipython",
    "version": 3
   },
   "file_extension": ".py",
   "mimetype": "text/x-python",
   "name": "python",
   "nbconvert_exporter": "python",
   "pygments_lexer": "ipython3",
   "version": "3.7.0"
  }
 },
 "nbformat": 4,
 "nbformat_minor": 2
}
