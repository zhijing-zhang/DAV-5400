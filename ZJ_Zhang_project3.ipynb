{
 "cells": [
  {
   "cell_type": "markdown",
   "metadata": {},
   "source": [
    "## Project3 \n",
    "\n",
    "#### Group member:  Zhijing Zhang, Gege Li"
   ]
  },
  {
   "cell_type": "markdown",
   "metadata": {},
   "source": [
    "In this project, we complete the part of writing the **player name, total points, state and pre-tournament rating** into a pandas DataFrame and then into the .CSV file. \n",
    "\n",
    "In order to complete this assignment:\n",
    "- 1. import numpy, pandas, re and csv to achieve our goals\n",
    "- 2. use open function to open the text file and named it data \n",
    "- 3. delete the first four rows which are the head of data and save as a new txt\n",
    "- 4. separate each players' data into two rows and save as two lists \n",
    "- 5. use regex to find the name and total points in the first row, and find the state and pre rating in the second row\n",
    "- 6. add name, total points, state and pre rating into a list and put all this four lists into a dataframe\n",
    "- 7. change the dataframe into a .CSV file."
   ]
  },
  {
   "cell_type": "markdown",
   "metadata": {},
   "source": [
    "First part is to delete the first four rows which are the head of data and save as a new txt."
   ]
  },
  {
   "cell_type": "code",
   "execution_count": 6,
   "metadata": {},
   "outputs": [],
   "source": [
    "#import numpy and pandas\n",
    "import numpy as np\n",
    "import pandas as pd\n",
    "# from pandas.core.frame import DataFrame\n",
    "import re\n",
    "import csv\n",
    "#import urllib2\n",
    "#from urllib2 import urlopen\n",
    "\n",
    "#data = urlopen(\"https://raw.githubusercontent.com/zhijing-zhang/DAV-5400/master/tournamentinfo.txt\").readlines()\n",
    "f = open('tournamentinfo.txt', 'r') \n",
    "data = f.readlines()\n",
    "\n",
    "# remove list items from index 0 to 3 (inclusive)\n",
    "del data[0:4]\n",
    "#try to print it out and it complete our goals, but this step is not necessary so we'#'it.\n",
    "#print(data[:5])\n",
    "\n",
    "# write the changed data (list) to a file\n",
    "fout = open(\"new.txt\", \"w\")\n",
    "fout.writelines(data)\n",
    "fout.close()"
   ]
  },
  {
   "cell_type": "markdown",
   "metadata": {},
   "source": [
    "Second part is to:\n",
    "- get the new data without head and saved as a new.txt file\n",
    "- separate each players' data into two lists. We think in this way is easy to complete the next step for extracting information we want\n",
    "- create a new list named player that contains the first row with the information 'name' and 'total point'\n",
    "- create another new list named rating which contains the second row with the information 'state' and 'pre-rating'"
   ]
  },
  {
   "cell_type": "code",
   "execution_count": 7,
   "metadata": {},
   "outputs": [],
   "source": [
    "# new text file without head\n",
    "f = open(\"new.txt\",\"r\") \n",
    "data = f.readlines()\n",
    "\n",
    "# use a for loop to get the player list\n",
    "player = list()\n",
    "for i in range(0,len(data),3):\n",
    "    player.append(data[i])\n",
    "#print(player)\n",
    "    \n",
    "# use a for loop to get the rating list\n",
    "rating = list()\n",
    "for i in range(1,len(data),3):\n",
    "    rating.append(data[i])\n",
    "#print(rating)\n",
    "#try to print it out and it complete our goals, but this step is not necessary so we'#'it."
   ]
  },
  {
   "cell_type": "markdown",
   "metadata": {},
   "source": [
    "Now we have two new lists. Search name and total points in **player list**. Search state and pre rating in **rating list**.\n",
    "\n",
    "Third part is to get the list of information:\n",
    "\n",
    "- create a new list named names\n",
    "- use regex to search all the name in player list\n",
    "- use re.search to find the names and use re.findall to put all name into a list\n",
    "- get the answer about name list"
   ]
  },
  {
   "cell_type": "code",
   "execution_count": 8,
   "metadata": {},
   "outputs": [],
   "source": [
    "names = list()\n",
    "for name in player:\n",
    "#find all the name in the player list using regex    \n",
    "    if re.search('[a-z/-A-Z\\s\\-]+[a-z/-A-Z]+', name):\n",
    "        name = re.findall('[a-zA-Z\\s\\-]+[a-zA-Z]+',name)\n",
    "        for i in name:\n",
    "#use a for loop to append the name we find into the list\n",
    "            names.append(i)\n",
    "#print(names)"
   ]
  },
  {
   "cell_type": "markdown",
   "metadata": {},
   "source": [
    "- create a new list named total points \n",
    "- use regex to search the total points in player list\n",
    "- use re.search to find the total points and use re.findall to put all players' total points into a list \n",
    "- get the answer about total_points list"
   ]
  },
  {
   "cell_type": "code",
   "execution_count": 9,
   "metadata": {},
   "outputs": [],
   "source": [
    "total_points = list()\n",
    "for total_point in player:\n",
    "#find all the players' total points in the player list using regex  \n",
    "    if re.search(r\"[\\d+\\.\\d]*\", total_point):\n",
    "        total_point = re.findall(r\"[\\d]+[.][\\d]+\",total_point)\n",
    "        #total_points.append(total_point)\n",
    "        for i in total_point:\n",
    "            total_points.append(i)\n",
    "#print(total_points)"
   ]
  },
  {
   "cell_type": "markdown",
   "metadata": {},
   "source": [
    "We can print the name and total_points list and it correctly work. But this is not necessary for the final result so we'#'it."
   ]
  },
  {
   "cell_type": "markdown",
   "metadata": {},
   "source": [
    "- create a new list named state\n",
    "- use regex to search the state in rating list\n",
    "- use re.search to find the players' state and use re.findall to put all players' state into a list\n",
    "- get the answer about state list"
   ]
  },
  {
   "cell_type": "code",
   "execution_count": 10,
   "metadata": {},
   "outputs": [],
   "source": [
    "states = list()\n",
    "for state in rating:\n",
    "#find all the players' state in the rating list using regex \n",
    "    if re.search(r\"[A-Z]+?\\s\", state):\n",
    "        state = re.findall(r\"[A-Z]{2}\\s\",state)\n",
    "        for i in state:\n",
    "            states.append(i)\n",
    "#print(states)"
   ]
  },
  {
   "cell_type": "markdown",
   "metadata": {},
   "source": [
    "- create a new list named pre rating. \n",
    "- use regex to search the pre rating in rating list. \n",
    "- use re.search to find the players' pre rating and use re.findall to put all players' pre rating into a list.\n",
    "\n",
    "In this part, we find that some players' pre rating has a 'P' letter following and some players' pre rating has a space after the ':'. So we use different regex to find the pre rating."
   ]
  },
  {
   "cell_type": "code",
   "execution_count": 11,
   "metadata": {},
   "outputs": [],
   "source": [
    "pre_ratings = list()\n",
    "for pre_rating in rating:\n",
    "#use regex to find all the pre rating that without 'p' followed\n",
    "    if re.search('[:]\\s*\\d{3,4}[P\\s]?', pre_rating):\n",
    "        pre_rating = re.findall('[:]\\s*\\d{3,4}[P\\s]?',pre_rating)\n",
    "        for i in pre_rating:\n",
    "#split the space in each pre rating and add the pre rating in the list\n",
    "            i.split('[]')[::-1]\n",
    "            test = \"\".join([x for x in i if x is not ':'][:5:])        \n",
    "            pre_ratings.append(test)\n",
    "#append the final result of pre rating into the list\n",
    "#print(pre_ratings)"
   ]
  },
  {
   "cell_type": "markdown",
   "metadata": {},
   "source": [
    "Now we can get the correct answer of pre rating without 'p' follow and no space.\n",
    "\n",
    "We can print the state and pre rating list and it correctly work. But this is not necessary for the final result so we'#'it.\n",
    "\n",
    "Now we have four lists of name, total points, state and pre rating. \n",
    "\n",
    "Using the dictionary to show the dataframe and each item is separate without '[]'."
   ]
  },
  {
   "cell_type": "code",
   "execution_count": 12,
   "metadata": {},
   "outputs": [
    {
     "name": "stdout",
     "output_type": "stream",
     "text": [
      "                     Name State Total Pre_rating\n",
      "0                GARY HUA   ON    6.0       1794\n",
      "1         DAKSHESH DARURI   MI    6.0       1553\n",
      "2            ADITYA BAJAJ   MI    6.0       1384\n",
      "3     PATRICK H SCHILLING   MI    5.5       1716\n",
      "4              HANSHI ZUO   MI    5.5       1655\n",
      "..                    ...   ...   ...        ...\n",
      "59             JULIA SHEN   MI    1.5        967\n",
      "60          JEZZEL FARKAS   ON    1.5        955\n",
      "61          ASHWIN BALAJI   MI    1.0       1530\n",
      "62   THOMAS JOSEPH HOSMER   MI    1.0       1175\n",
      "63                 BEN LI   MI    1.0       1163\n",
      "\n",
      "[64 rows x 4 columns]\n"
     ]
    }
   ],
   "source": [
    "from pandas.core.frame import DataFrame\n",
    "Data = {\"Name\": names, \"State\" : states, \"Total\":total_points, \"Pre_rating\":pre_ratings}\n",
    "Data = DataFrame(Data)\n",
    "print(Data)"
   ]
  },
  {
   "cell_type": "markdown",
   "metadata": {},
   "source": [
    "Now we can get the answer in a dataframe. \n",
    "\n",
    "Then change this dataframe into .csv by using .to_csv function"
   ]
  },
  {
   "cell_type": "code",
   "execution_count": 13,
   "metadata": {},
   "outputs": [
    {
     "name": "stdout",
     "output_type": "stream",
     "text": [
      "Name,State,Total,Pre_rating\r\n",
      " GARY HUA,ON ,6.0, 1794\r\n",
      " DAKSHESH DARURI,MI ,6.0, 1553\r\n",
      " ADITYA BAJAJ,MI ,6.0, 1384\r\n",
      " PATRICK H SCHILLING,MI ,5.5, 1716\r\n",
      " HANSHI ZUO,MI ,5.5, 1655\r\n",
      " HANSEN SONG,OH ,5.0, 1686\r\n",
      " GARY DEE SWATHELL,MI ,5.0, 1649\r\n",
      " EZEKIEL HOUGHTON,MI ,5.0, 1641\r\n",
      " STEFANO LEE,ON ,5.0, 1411\r\n",
      " ANVIT RAO,MI ,5.0, 1365\r\n",
      " CAMERON WILLIAM MC LEMAN,MI ,4.5, 1712\r\n",
      " KENNETH J TACK,MI ,4.5, 1663\r\n",
      " TORRANCE HENRY JR,MI ,4.5, 1666\r\n",
      " BRADLEY SHAW,MI ,4.5, 1610\r\n",
      " ZACHARY JAMES HOUGHTON,MI ,4.5, 1220\r\n",
      " MIKE NIKITIN,MI ,4.0, 1604\r\n",
      " RONALD GRZEGORCZYK,MI ,4.0, 1629\r\n",
      " DAVID SUNDEEN,MI ,4.0, 1600\r\n",
      " DIPANKAR ROY,MI ,4.0, 1564\r\n",
      " JASON ZHENG,MI ,4.0, 1595\r\n",
      " DINH DANG BUI,ON ,4.0, 1563\r\n",
      " EUGENE L MCCLURE,MI ,4.0, 1555\r\n",
      " ALAN BUI,ON ,4.0, 1363\r\n",
      " MICHAEL R ALDRICH,MI ,4.0, 1229\r\n",
      " LOREN SCHWIEBERT,MI ,3.5, 1745\r\n",
      " MAX ZHU,ON ,3.5, 1579\r\n",
      " GAURAV GIDWANI,MI ,3.5, 1552\r\n",
      " SOFIA ADINA STANESCU-BELLU,MI ,3.5, 1507\r\n",
      " CHIEDOZIE OKORIE,MI ,3.5, 1602\r\n",
      " GEORGE AVERY JONES,ON ,3.5, 1522\r\n",
      " RISHI SHETTY,MI ,3.5, 1494\r\n",
      " JOSHUA PHILIP MATHEWS,ON ,3.5, 1441\r\n",
      " JADE GE,MI ,3.5, 1449\r\n",
      " MICHAEL JEFFERY THOMAS,MI ,3.5, 1399\r\n",
      " JOSHUA DAVID LEE,MI ,3.5, 1438\r\n",
      " SIDDHARTH JHA,MI ,3.5, 1355\r\n",
      " AMIYATOSH PWNANANDAM,MI ,3.5,  980\r\n",
      " BRIAN LIU,MI ,3.0, 1423\r\n",
      " JOEL R HENDON,MI ,3.0, 1436\r\n",
      " FOREST ZHANG,MI ,3.0, 1348\r\n",
      " KYLE WILLIAM MURPHY,MI ,3.0, 1403\r\n",
      " JARED GE,MI ,3.0, 1332\r\n",
      " ROBERT GLEN VASEY,MI ,3.0, 1283\r\n",
      " JUSTIN D SCHILLING,MI ,3.0, 1199\r\n",
      " DEREK YAN,MI ,3.0, 1242\r\n",
      " JACOB ALEXANDER LAVALLEY,MI ,3.0,  377\r\n",
      " ERIC WRIGHT,MI ,2.5, 1362\r\n",
      " DANIEL KHAIN,MI ,2.5, 1382\r\n",
      " MICHAEL J MARTIN,MI ,2.5, 1291\r\n",
      " SHIVAM JHA,MI ,2.5, 1056\r\n",
      " TEJAS AYYAGARI,MI ,2.5, 1011\r\n",
      " ETHAN GUO,MI ,2.5,  935\r\n",
      " JOSE C YBARRA,MI ,2.0, 1393\r\n",
      " LARRY HODGE,MI ,2.0, 1270\r\n",
      " ALEX KONG,MI ,2.0, 1186\r\n",
      " MARISA RICCI,MI ,2.0, 1153\r\n",
      " MICHAEL LU,MI ,2.0, 1092\r\n",
      " VIRAJ MOHILE,MI ,2.0,  917\r\n",
      " SEAN M MC CORMICK,MI ,2.0,  853\r\n",
      " JULIA SHEN,MI ,1.5,  967\r\n",
      " JEZZEL FARKAS,ON ,1.5,  955\r\n",
      " ASHWIN BALAJI,MI ,1.0, 1530\r\n",
      " THOMAS JOSEPH HOSMER,MI ,1.0, 1175\r\n",
      " BEN LI,MI ,1.0, 1163\r\n",
      "\n"
     ]
    }
   ],
   "source": [
    "chess_csv = Data.to_csv(index=False)\n",
    "print(chess_csv)"
   ]
  },
  {
   "cell_type": "markdown",
   "metadata": {},
   "source": [
    "We can also save this .csv into a new csv file by using .to_csv function and named it chess.csv"
   ]
  },
  {
   "cell_type": "code",
   "execution_count": 14,
   "metadata": {},
   "outputs": [],
   "source": [
    "Data.to_csv('chess.csv',index=False)"
   ]
  }
 ],
 "metadata": {
  "kernelspec": {
   "display_name": "Python 3",
   "language": "python",
   "name": "python3"
  },
  "language_info": {
   "codemirror_mode": {
    "name": "ipython",
    "version": 3
   },
   "file_extension": ".py",
   "mimetype": "text/x-python",
   "name": "python",
   "nbconvert_exporter": "python",
   "pygments_lexer": "ipython3",
   "version": "3.7.0"
  }
 },
 "nbformat": 4,
 "nbformat_minor": 2
}
