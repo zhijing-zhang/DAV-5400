{
 "cells": [
  {
   "cell_type": "markdown",
   "metadata": {},
   "source": [
    "##### ZJ_Zhang_w6_assn.py"
   ]
  },
  {
   "cell_type": "code",
   "execution_count": 1,
   "metadata": {},
   "outputs": [],
   "source": [
    "import numpy as np\n",
    "import pandas as pd\n",
    "\n",
    "df = pd.read_csv('https://raw.githubusercontent.com/zhijing-zhang/DAV-5400/master/diamonds.csv')"
   ]
  },
  {
   "cell_type": "markdown",
   "metadata": {},
   "source": [
    "##### 1. What proportion of diamonds are between .30 and 1.08 carats?"
   ]
  },
  {
   "cell_type": "code",
   "execution_count": 3,
   "metadata": {},
   "outputs": [
    {
     "name": "stdout",
     "output_type": "stream",
     "text": [
      "True     37434\n",
      "False    16506\n",
      "Name: carat, dtype: int64\n"
     ]
    }
   ],
   "source": [
    "# value_count: count the number of identical values in a particular column\n",
    "a = ((df['carat'] > 0.30) & (df['carat'] < 1.08)).value_counts()\n",
    "print(a)"
   ]
  },
  {
   "cell_type": "markdown",
   "metadata": {},
   "source": [
    "##### result: proportion of diamonds are between .30 and 1.08 carats is 37434/(37434+46506)=0.694"
   ]
  },
  {
   "cell_type": "markdown",
   "metadata": {},
   "source": [
    "##### 2. How many of the diamonds have equal x and y dimensions?"
   ]
  },
  {
   "cell_type": "code",
   "execution_count": 4,
   "metadata": {},
   "outputs": [
    {
     "name": "stdout",
     "output_type": "stream",
     "text": [
      "False    53923\n",
      "True        17\n",
      "dtype: int64\n"
     ]
    }
   ],
   "source": [
    "b = (df['x'] == df['y']).value_counts()\n",
    "print(b)"
   ]
  },
  {
   "cell_type": "markdown",
   "metadata": {},
   "source": [
    "##### result: 17"
   ]
  },
  {
   "cell_type": "markdown",
   "metadata": {},
   "source": [
    "##### 3. How many of the diamonds have a carat less than the mean carat value?"
   ]
  },
  {
   "cell_type": "code",
   "execution_count": 5,
   "metadata": {},
   "outputs": [
    {
     "name": "stdout",
     "output_type": "stream",
     "text": [
      "True     31127\n",
      "False    22813\n",
      "Name: carat, dtype: int64\n"
     ]
    }
   ],
   "source": [
    "c = (df['carat'] < df['carat'].describe()['mean']).value_counts()\n",
    "print(c)"
   ]
  },
  {
   "cell_type": "markdown",
   "metadata": {},
   "source": [
    "##### result: 31127"
   ]
  },
  {
   "cell_type": "markdown",
   "metadata": {},
   "source": [
    "##### 4. How many diamonds have a Premium cut or better? Note that the possible values for the quality of a cut are ranked in ascending order as follows: Fair / Good / Very Good / Premium / Ideal"
   ]
  },
  {
   "cell_type": "code",
   "execution_count": 8,
   "metadata": {},
   "outputs": [
    {
     "name": "stdout",
     "output_type": "stream",
     "text": [
      "True     35342\n",
      "False    18598\n",
      "Name: cut, dtype: int64\n"
     ]
    }
   ],
   "source": [
    "d = ((df['cut'] == 'Premium') | (df['cut'] == 'Ideal')).value_counts()\n",
    "print(d)"
   ]
  },
  {
   "cell_type": "markdown",
   "metadata": {},
   "source": [
    "##### result: 35342"
   ]
  },
  {
   "cell_type": "markdown",
   "metadata": {},
   "source": [
    "##### 5. Which diamond has the highest price per carat? What is its value?"
   ]
  },
  {
   "cell_type": "code",
   "execution_count": 10,
   "metadata": {},
   "outputs": [
    {
     "name": "stdout",
     "output_type": "stream",
     "text": [
      "17828.846153846152\n"
     ]
    }
   ],
   "source": [
    "# method 1\n",
    "e = (df['price'] / df['carat']).describe()['max']\n",
    "print(e)"
   ]
  },
  {
   "cell_type": "code",
   "execution_count": 34,
   "metadata": {},
   "outputs": [
    {
     "name": "stdout",
     "output_type": "stream",
     "text": [
      "              carat        cut color clarity  depth  table  price     x     y  \\\n",
      "1051.162791    0.43    Premium     H      I1   62.0   59.0    452  4.78  4.83   \n",
      "1078.125000    0.32    Premium     E      I1   60.9   58.0    345  4.38  4.42   \n",
      "1080.645161    0.31       Good     J     SI2   63.3   58.0    335  4.34  4.35   \n",
      "1109.090909    0.33      Ideal     J     SI2   62.4   54.0    366  4.43  4.45   \n",
      "1109.677419    0.31      Ideal     J     SI2   62.2   54.0    344  4.35  4.37   \n",
      "1128.125000    0.32       Good     D      I1   64.0   54.0    361  4.33  4.36   \n",
      "1130.000000    0.30       Good     J     SI1   64.0   55.0    339  4.25  4.28   \n",
      "1138.709677    0.31  Very Good     J     SI1   59.4   62.0    353  4.44  4.47   \n",
      "1138.888889    0.36    Premium     J     SI1   61.6   60.0    410  4.54  4.58   \n",
      "1139.024390    0.41       Good     G      I1   63.8   56.0    467  4.70  4.74   \n",
      "1139.534884    0.43       Good     J     SI2   63.7   57.0    490  4.76  4.79   \n",
      "1140.625000    0.32    Premium     J     SI1   62.2   59.0    365  4.37  4.41   \n",
      "1151.724138    0.29    Premium     I     VS2   62.4   58.0    334  4.20  4.23   \n",
      "1156.410256    0.39      Ideal     J     SI2   62.6   54.0    451  4.64  4.69   \n",
      "1159.375000    0.32      Ideal     I     SI2   61.7   55.0    371  4.39  4.42   \n",
      "1160.000000    0.30      Ideal     I     SI2   62.0   54.0    348  4.31  4.34   \n",
      "1168.000000    0.50       Fair     F      I1   69.8   55.0    584  4.89  4.80   \n",
      "1168.571429    0.35       Good     J     SI1   63.3   56.0    409  4.50  4.53   \n",
      "1168.750000    0.32  Very Good     J     SI2   63.4   58.0    374  4.36  4.41   \n",
      "1169.444444    0.36    Premium     J     SI1   61.3   60.0    421  4.52  4.59   \n",
      "1170.000000    0.30  Very Good     J     SI2   63.8   59.0    351  4.26  4.30   \n",
      "1170.967742    0.31  Very Good     J     SI1   63.5   60.0    363  4.36  4.38   \n",
      "1190.000000    0.30  Very Good     J     VS2   62.2   57.0    357  4.28  4.30   \n",
      "1200.000000    0.39    Premium     J     SI2   62.0   58.0    468  4.51  6.02   \n",
      "1210.000000    0.40      Ideal     I     SI2   61.0   58.0    484  4.74  4.77   \n",
      "1212.500000    0.32  Very Good     I     SI2   62.4   61.0    388  4.42  4.47   \n",
      "1214.705882    0.34      Ideal     J     VS1   62.5   57.0    413  4.50  4.54   \n",
      "1215.625000    0.32  Very Good     J     SI1   62.3   57.0    389  4.33  4.44   \n",
      "1216.129032    0.31       Good     I     SI1   64.3   55.0    377  4.27  4.29   \n",
      "1218.918919    0.37      Ideal     J     SI1   62.2   53.0    451  4.63  4.67   \n",
      "...             ...        ...   ...     ...    ...    ...    ...   ...   ...   \n",
      "13938.532110   1.09      Ideal     E      IF   60.1   58.0  15193  6.68  6.72   \n",
      "14063.461538   1.04      Ideal     D      IF   61.8   57.0  14626  6.52  6.49   \n",
      "14208.264463   1.21    Premium     D    VVS1   60.1   59.0  17192  6.96  6.88   \n",
      "14341.322314   1.21      Ideal     E      IF   61.8   56.0  17353  6.81  6.88   \n",
      "14498.000000   1.00      Ideal     D    VVS1   60.7   56.0  14498  6.47  6.54   \n",
      "14609.375000   1.28      Ideal     E      IF   60.7   57.0  18700  7.09  6.99   \n",
      "14917.924528   1.06      Ideal     D      IF   61.2   57.0  15813  6.57  6.61   \n",
      "14931.683168   1.01       Good     D      IF   63.4   59.0  15081  6.34  6.39   \n",
      "14932.352941   1.02    Premium     D      IF   61.5   60.0  15231  6.45  6.52   \n",
      "15005.882353   1.02  Very Good     D      IF   62.7   57.0  15306  6.36  6.46   \n",
      "15051.376147   1.09       Good     D      IF   58.7   61.0  16406  6.75  6.85   \n",
      "15068.269231   1.04    Premium     D      IF   60.6   56.0  15671  6.60  6.54   \n",
      "15068.316832   1.01  Very Good     D      IF   63.4   59.0  15219  6.39  6.26   \n",
      "15068.627451   1.02    Premium     D      IF   61.5   60.0  15370  6.52  6.45   \n",
      "15269.607843   1.02      Ideal     D      IF   63.0   57.0  15575  6.39  6.35   \n",
      "15350.000000   1.14       Good     D      IF   61.7   63.0  17499  6.64  6.74   \n",
      "15887.719298   1.14  Very Good     D      IF   59.1   58.0  18112  6.83  6.90   \n",
      "15927.102804   1.07      Ideal     D      IF   60.9   54.0  17042  6.66  6.73   \n",
      "15927.722772   1.01  Very Good     D      IF   61.6   56.0  16087  6.43  6.46   \n",
      "15928.000000   1.00       Good     D      IF   63.3   59.0  15928  6.33  6.37   \n",
      "16073.000000   1.00  Very Good     D      IF   63.3   59.0  16073  6.37  6.33   \n",
      "16073.267327   1.01    Premium     D      IF   61.6   56.0  16234  6.46  6.43   \n",
      "16469.000000   1.00      Ideal     D      IF   60.7   57.0  16469  6.44  6.48   \n",
      "16725.688073   1.09  Very Good     D      IF   61.7   58.0  18231  6.55  6.65   \n",
      "16737.383178   1.07  Very Good     D      IF   59.0   59.0  17909  6.63  6.72   \n",
      "16764.705882   1.02  Very Good     D      IF   61.7   59.0  17100  6.42  6.52   \n",
      "16928.971963   1.07  Very Good     D      IF   60.9   58.0  18114  6.57  6.67   \n",
      "17077.669903   1.03      Ideal     D      IF   62.0   56.0  17590  6.55  6.44   \n",
      "17083.177570   1.07    Premium     D      IF   60.9   58.0  18279  6.67  6.57   \n",
      "17828.846154   1.04  Very Good     D      IF   61.3   56.0  18542  6.53  6.55   \n",
      "\n",
      "                 z  \n",
      "1051.162791   2.98  \n",
      "1078.125000   2.68  \n",
      "1080.645161   2.75  \n",
      "1109.090909   2.77  \n",
      "1109.677419   2.71  \n",
      "1128.125000   2.78  \n",
      "1130.000000   2.73  \n",
      "1138.709677   2.62  \n",
      "1138.888889   2.81  \n",
      "1139.024390   3.01  \n",
      "1139.534884   3.04  \n",
      "1140.625000   2.73  \n",
      "1151.724138   2.63  \n",
      "1156.410256   2.92  \n",
      "1159.375000   2.72  \n",
      "1160.000000   2.68  \n",
      "1168.000000   3.38  \n",
      "1168.571429   2.86  \n",
      "1168.750000   2.76  \n",
      "1169.444444   2.79  \n",
      "1170.000000   2.71  \n",
      "1170.967742   2.74  \n",
      "1190.000000   2.67  \n",
      "1200.000000   4.44  \n",
      "1210.000000   2.90  \n",
      "1212.500000   2.77  \n",
      "1214.705882   2.80  \n",
      "1215.625000   2.73  \n",
      "1216.129032   2.75  \n",
      "1218.918919   2.89  \n",
      "...            ...  \n",
      "13938.532110  4.03  \n",
      "14063.461538  4.02  \n",
      "14208.264463  4.16  \n",
      "14341.322314  4.23  \n",
      "14498.000000  3.95  \n",
      "14609.375000  4.27  \n",
      "14917.924528  4.03  \n",
      "14931.683168  4.02  \n",
      "14932.352941  3.99  \n",
      "15005.882353  4.02  \n",
      "15051.376147  3.99  \n",
      "15068.269231  3.98  \n",
      "15068.316832  4.01  \n",
      "15068.627451  3.99  \n",
      "15269.607843  4.01  \n",
      "15350.000000  4.13  \n",
      "15887.719298  4.06  \n",
      "15927.102804  4.08  \n",
      "15927.722772  3.97  \n",
      "15928.000000  4.02  \n",
      "16073.000000  4.02  \n",
      "16073.267327  3.97  \n",
      "16469.000000  3.92  \n",
      "16725.688073  4.07  \n",
      "16737.383178  3.94  \n",
      "16764.705882  3.99  \n",
      "16928.971963  4.03  \n",
      "17077.669903  4.03  \n",
      "17083.177570  4.03  \n",
      "17828.846154  4.01  \n",
      "\n",
      "[26693 rows x 10 columns]\n"
     ]
    }
   ],
   "source": [
    "# method 2\n",
    "e = df.groupby(df['price'] / df['carat']).max()\n",
    "print(e)"
   ]
  },
  {
   "cell_type": "markdown",
   "metadata": {},
   "source": [
    "##### result: the most  highest price per carat is 17828.846154   \n",
    "##### and the data about this diamond is : 1.04  Very Good     D      IF   61.3   56.0  18542  6.53  6.55   4.01  "
   ]
  },
  {
   "cell_type": "markdown",
   "metadata": {},
   "source": [
    "##### A question about: how to print the last row of this table?"
   ]
  },
  {
   "cell_type": "markdown",
   "metadata": {},
   "source": [
    "##### 6. Make a bar plot of the ‘cut’ data. What does it tell us about the frequencies of the individual cut values within the data set?"
   ]
  },
  {
   "cell_type": "code",
   "execution_count": 18,
   "metadata": {},
   "outputs": [
    {
     "data": {
      "image/png": "[encoded data removed]",
      "text/plain": [
       "<Figure size 432x288 with 1 Axes>"
      ]
     },
     "metadata": {
      "needs_background": "light"
     },
     "output_type": "display_data"
    }
   ],
   "source": [
    "# create a bar plot of the cut variable's value counts\n",
    "bplt = df['cut'].value_counts().plot.bar(title = \"Freq Dist of cut\")"
   ]
  },
  {
   "cell_type": "markdown",
   "metadata": {},
   "source": [
    "- This bar plot of result tells us that the better a diamond is, the quantity is larger\n",
    "- For this dataset quantity of ideal diamond is most more than 20000, and the Fair diamond is least less than 2500\n",
    "- The very good is the midium one about 12500"
   ]
  },
  {
   "cell_type": "markdown",
   "metadata": {},
   "source": [
    "##### 7. Make boxplots of the diamond price for each cut and discuss any conclusions you can draw from the appearance of the boxplots."
   ]
  },
  {
   "cell_type": "code",
   "execution_count": 25,
   "metadata": {},
   "outputs": [
    {
     "data": {
      "image/png": "[encoded data removed]",
      "text/plain": [
       "<Figure size 432x288 with 1 Axes>"
      ]
     },
     "metadata": {
      "needs_background": "light"
     },
     "output_type": "display_data"
    }
   ],
   "source": [
    "# create a box plot of the cut and price variable's value counts\n",
    "import matplotlib.pyplot as plt\n",
    "# choose two columns\n",
    "sample_size = df[['cut', 'price']]\n",
    "\n",
    "# statistic by 'cut'\n",
    "bplt = sample_size.boxplot(by='cut')"
   ]
  },
  {
   "cell_type": "markdown",
   "metadata": {},
   "source": [
    "From boxplot:\n",
    "\n",
    "- The premium diamonds has the highest max price about 14000, and the fair diamonds has the lowest max price below 10000\n",
    "- The fair and premium have similar median about 3500，ideal has lowest median about 1800\n",
    "- The minimum price are same of five\n",
    "- The highest of discrete value are same, the premium's range of discrete is least"
   ]
  },
  {
   "cell_type": "markdown",
   "metadata": {},
   "source": [
    "##### 8. Make histograms of the length, width, depth, and total depth attributes and discuss any conclusions you can draw from the shape of the resulting distributions."
   ]
  },
  {
   "cell_type": "code",
   "execution_count": 29,
   "metadata": {},
   "outputs": [
    {
     "data": {
      "image/png": "[encoded data removed]",
      "text/plain": [
       "<Figure size 432x288 with 1 Axes>"
      ]
     },
     "metadata": {
      "needs_background": "light"
     },
     "output_type": "display_data"
    }
   ],
   "source": [
    "hist1 = df['x'].hist(label = 'x', color = \"r\")"
   ]
  },
  {
   "cell_type": "code",
   "execution_count": 30,
   "metadata": {},
   "outputs": [
    {
     "data": {
      "image/png": "[encoded data removed]",
      "text/plain": [
       "<Figure size 432x288 with 1 Axes>"
      ]
     },
     "metadata": {
      "needs_background": "light"
     },
     "output_type": "display_data"
    }
   ],
   "source": [
    "hist2 = df['y'].hist(label = 'y', color = \"g\")"
   ]
  },
  {
   "cell_type": "code",
   "execution_count": 31,
   "metadata": {},
   "outputs": [
    {
     "data": {
      "image/png": "[encoded data removed]",
      "text/plain": [
       "<Figure size 432x288 with 1 Axes>"
      ]
     },
     "metadata": {
      "needs_background": "light"
     },
     "output_type": "display_data"
    }
   ],
   "source": [
    "hist3 = df['z'].hist(label = 'z', color = \"b\")"
   ]
  },
  {
   "cell_type": "code",
   "execution_count": 32,
   "metadata": {},
   "outputs": [
    {
     "data": {
      "image/png": "[encoded data removed]",
      "text/plain": [
       "<Figure size 432x288 with 1 Axes>"
      ]
     },
     "metadata": {
      "needs_background": "light"
     },
     "output_type": "display_data"
    }
   ],
   "source": [
    "hist4 = df['depth'].hist(label = 'depth')"
   ]
  },
  {
   "cell_type": "code",
   "execution_count": 33,
   "metadata": {},
   "outputs": [
    {
     "data": {
      "image/png": "[encoded data removed]",
      "text/plain": [
       "<Figure size 432x288 with 1 Axes>"
      ]
     },
     "metadata": {
      "needs_background": "light"
     },
     "output_type": "display_data"
    }
   ],
   "source": [
    "hist1 = df['x'].hist(alpha = 0.5, label = 'x', color = \"r\")\n",
    "hist2 = df['y'].hist(alpha = 0.5, label = 'y', color = \"g\")\n",
    "hist3 = df['z'].hist(alpha = 0.5, label = 'z', color = \"b\")\n",
    "hist4 = df['depth'].hist(alpha = 0.5, label = 'depth')"
   ]
  },
  {
   "cell_type": "markdown",
   "metadata": {},
   "source": [
    "From these histograms of the length, width, depth, and total depth:\n",
    "\n",
    "- Plot a histogram of the these variable to get a sense of what range length, width, depth, and total depth are most\n",
    "- It appears that the 4-6 is the largest range for depth, 0-10 for width, 0-5 for depth, and 60-65 for total depth"
   ]
  },
  {
   "cell_type": "markdown",
   "metadata": {},
   "source": [
    "##### 9. Make a scatter plot of price vs. carat. What can we say about the relationship between those two attributes?"
   ]
  },
  {
   "cell_type": "code",
   "execution_count": 35,
   "metadata": {},
   "outputs": [
    {
     "data": {
      "image/png": "[encoded data removed]",
      "text/plain": [
       "<Figure size 432x288 with 1 Axes>"
      ]
     },
     "metadata": {
      "needs_background": "light"
     },
     "output_type": "display_data"
    }
   ],
   "source": [
    "# create a scatter plot of price vs. carat\n",
    "scatter = df.plot.scatter(x = 'price', y = 'carat')"
   ]
  },
  {
   "cell_type": "markdown",
   "metadata": {},
   "source": [
    "From this scatter:\n",
    "\n",
    "- positive relationship between price and carat\n",
    "- the carat are mainly concentrated in 1-2, the price are mainly concentrated below 17500\n",
    "- there are some outlier, such as the carat 5, maybe caused by measure error"
   ]
  }
 ],
 "metadata": {
  "kernelspec": {
   "display_name": "Python 3",
   "language": "python",
   "name": "python3"
  },
  "language_info": {
   "codemirror_mode": {
    "name": "ipython",
    "version": 3
   },
   "file_extension": ".py",
   "mimetype": "text/x-python",
   "name": "python",
   "nbconvert_exporter": "python",
   "pygments_lexer": "ipython3",
   "version": "3.7.0"
  }
 },
 "nbformat": 4,
 "nbformat_minor": 2
}
