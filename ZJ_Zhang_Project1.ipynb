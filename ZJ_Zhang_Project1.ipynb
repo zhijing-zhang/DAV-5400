{
 "cells": [
  {
   "cell_type": "markdown",
   "metadata": {},
   "source": [
    "##### ZJ_Zhang_Project1.py"
   ]
  },
  {
   "cell_type": "markdown",
   "metadata": {},
   "source": [
    "#### group members: Gege Li, Zhijing Zhang\n",
    "##### come up with problems: both\n",
    "##### 1st solution :Zhijing Zhang\n",
    "##### 2nd solution: both\n",
    "##### 3rd solution: both\n",
    "##### comments: Completed separately"
   ]
  },
  {
   "cell_type": "markdown",
   "metadata": {},
   "source": [
    "##### A question after 1st "
   ]
  },
  {
   "cell_type": "markdown",
   "metadata": {},
   "source": [
    "### Assuming that this data exploratory is performed to customers who would take planes from Houston, they would like to know about the these three questions:\n",
    "questions start from when the passengers choose the airports, then choose the flights and see the flights table in the airport. We will use some pandas to add, remove and transform data within this data frame. And use some basic statistics and graphics to show our exploratory answers and analytics to the questions passengers care about.\n",
    "1. Which airpot has a higher rate of delay in IAH and HOU? If i were a customer, i'd like to choose the one with lower rate of delay.\n",
    "2. Which flight is the fastest from Houston to my destination? After choosing a better airport, i want to know that the fastest flight in all flights flying to my destination.\n",
    "3. Show a flights table. When i get to airport, there should be a screen to show the flights information. Show the flights table and find the flight i would take.\n"
   ]
  },
  {
   "cell_type": "code",
   "execution_count": 1,
   "metadata": {},
   "outputs": [],
   "source": [
    "# Remember: in all of the functions, NEVER NEVER NEVER using the inplace Parameters\n",
    "# inplace default False, if inplace = Ture, the origin will be replaced.\n",
    "\n",
    "import pandas as pd\n",
    "from pandas import Series, DataFrame\n",
    "\n",
    "filename = pd.DataFrame([])\n",
    "filename = 'https://raw.githubusercontent.com/jtopor/DAV-5400/master/Project1/hflights.csv'\n",
    "flights = pd.read_csv(filename)"
   ]
  },
  {
   "cell_type": "markdown",
   "metadata": {},
   "source": [
    "### For 1st question:\n",
    "rate of departure delay = number of dep delay / number of all flights\n",
    "\n",
    "rate of arrival delay = number of arrival delay / number of all flights\n",
    "\n",
    "Comparing the rate of IAH and HOU, choose a better one having lower rate of delay.\n",
    "\n",
    "The caculating steps are:\n",
    "- Find the delay flights of IAH and HOU. For the US Bureau of Transportation Statistics:\n",
    "  -  arrival delay equals the difference of the actual arrival time minus the scheduled arrival time. A flight is considered on-time when it arrives less than 15 minutes after its published arrival time. \n",
    "  - departure Delay equals the difference between the scheduled departure time and the actual departure time from the origin airport gate. A flight is considered out-time when it is later than the published departure time.\n",
    "- I choose the columns, 'ArrDelay', 'DepDelay', and 'Origin' to calculate the results, and create the new columns 'IfArrDelay', 'Reparation', and 'IfDepDelay' using the loc().\n",
    " - The initial value of  'IfArrDelay' and 'IfDepDelay' are '0', means no delay. And the  'Reparation' is 'N', means no reparation.\n",
    " - If the 'ArrDelay'>15, set the 'IfArrDelay' to '1', means having arrival delay.\n",
    " - If the 'DepDelay'>0, set the 'IfDepDelay' to '1', means having departure delay.\n",
    " - If the 'ArrDelay'>120, set the 'Reparation' to 'Y', means having reparation for 2 hours' delay.\n",
    "- Use the len() or count() of Pandas to count the number of each one above.\n"
   ]
  },
  {
   "cell_type": "code",
   "execution_count": 2,
   "metadata": {},
   "outputs": [
    {
     "name": "stdout",
     "output_type": "stream",
     "text": [
      "IAH_rate_of_ArrDelay: 0.1730756967030164\n",
      "HOU_rate_of_ArrDelay: 0.24172262097707803\n",
      "HOU has more arrival delay\n",
      "IAH_rate_of_DepDelay: 0.46030227664052037\n",
      "HOU_rate_of_DepDelay: 0.6515397082658023\n",
      "HOU has more departure delay\n"
     ]
    }
   ],
   "source": [
    "# initial of IfArrDelay and IfDepDelay are 0,means no delay.\n",
    "flights['IfArrDelay'] = '0'\n",
    "flights['IfDepDelay'] = '0'\n",
    "flights['Reparation'] = 'N'\n",
    "\n",
    "# if ArrDelay > 15, set the value of IfArrDelay = 1.\n",
    "flights.loc[flights['ArrDelay'] > 15, 'IfArrDelay'] = '1'\n",
    "flights.loc[flights['ArrDelay'] > 120, 'Reparation'] = 'Y'\n",
    "flights.loc[flights['DepDelay'] > 0, 'IfDepDelay'] = '1'\n",
    "\n",
    "# quantity of delay from IAH\n",
    "a = len(flights[(flights['Origin']=='IAH')&(flights['IfArrDelay']=='1')])\n",
    "# quantity of all flights\n",
    "b = len(flights[flights['Origin']=='IAH'])\n",
    "print(\"IAH_rate_of_ArrDelay:\", a / b)\n",
    "c = len(flights[(flights['Origin']=='HOU')&(flights['IfArrDelay']=='1')])\n",
    "d = len(flights[flights['Origin']=='HOU'])\n",
    "print(\"HOU_rate_of_ArrDelay:\", c / d)\n",
    "if(a/b > c/d):\n",
    "    print(\"IAH has more arrival delay\")\n",
    "else:\n",
    "    print(\"HOU has more arrival delay\")\n",
    "\n",
    "# quantity of delay to IAH    \n",
    "e = len(flights[(flights['Origin']=='IAH')&(flights['IfDepDelay']=='1')])\n",
    "f = len(flights[flights['Origin']=='IAH'])\n",
    "print(\"IAH_rate_of_DepDelay:\", e / f)\n",
    "g = len(flights[(flights['Origin']=='HOU')&(flights['IfDepDelay']=='1')])\n",
    "h = len(flights[flights['Origin']=='HOU'])\n",
    "print(\"HOU_rate_of_DepDelay:\", g / h)\n",
    "if(e/f > g/h):\n",
    "    print(\"IAH has more departure delay\")\n",
    "else:\n",
    "    print(\"HOU has more departure delay\")\n",
    "    "
   ]
  },
  {
   "cell_type": "markdown",
   "metadata": {},
   "source": [
    "##### Answer for 1st question:\n",
    "The Hou has a higher delay both in arrival and departure.\n",
    "\n",
    "If i were a customer, i prefer the IAH.\n",
    "\n",
    "But the premise is that there are flights from here. "
   ]
  },
  {
   "cell_type": "markdown",
   "metadata": {},
   "source": [
    "##### The visualization graphics i choosing is box plots and density"
   ]
  },
  {
   "cell_type": "code",
   "execution_count": 60,
   "metadata": {},
   "outputs": [
    {
     "data": {
      "text/plain": [
       "<matplotlib.axes._subplots.AxesSubplot at 0x7470d238d0>"
      ]
     },
     "execution_count": 60,
     "metadata": {},
     "output_type": "execute_result"
    },
    {
     "data": {
      "image/png": "[encoded data removed]",
      "text/plain": [
       "<Figure size 432x288 with 1 Axes>"
      ]
     },
     "metadata": {
      "needs_background": "light"
     },
     "output_type": "display_data"
    }
   ],
   "source": [
    "flights[['ArrDelay','DepDelay']].plot(kind = 'box')"
   ]
  },
  {
   "cell_type": "code",
   "execution_count": 7,
   "metadata": {},
   "outputs": [
    {
     "data": {
      "text/plain": [
       "<matplotlib.axes._subplots.AxesSubplot at 0x51c9415240>"
      ]
     },
     "execution_count": 7,
     "metadata": {},
     "output_type": "execute_result"
    },
    {
     "data": {
      "image/png": "[encoded data removed]",
      "text/plain": [
       "<Figure size 432x288 with 1 Axes>"
      ]
     },
     "metadata": {
      "needs_background": "light"
     },
     "output_type": "display_data"
    }
   ],
   "source": [
    "# a denstiy to show the most delaytime\n",
    "flights[['ArrDelay','DepDelay']].plot(kind = 'density')"
   ]
  },
  {
   "cell_type": "markdown",
   "metadata": {},
   "source": [
    "##### The summary statistics for these variable indicate that the sum of both IAH and HOU ' rate of departure delay are almost 1, it is very high. These two airports should put more time to optimization, and check the weather with higher frequency to chech the reason of delay. Maybe thay should cut some flights to ensure the on-time flights."
   ]
  },
  {
   "cell_type": "markdown",
   "metadata": {},
   "source": [
    "### Question:\n",
    "In fact, i want to make the box plots chart to show the IAH and HOU delay rate, and compare these two airports.\n",
    "\n",
    "But i can't use any conditions with plot(). such as:\n",
    "\n",
    "flight[(flights['Origin']=='IAH')&(flights['IfDepDelay']==1)].plot(kind = 'box')\n",
    "\n",
    "How to do this?"
   ]
  },
  {
   "cell_type": "markdown",
   "metadata": {},
   "source": [
    "### For the 2nd question:\n",
    "The fastest flight means the attribute 'ActualElapsedTime' has a min number.\n",
    "\n",
    "For different 'flightnum', there is a different min 'ActualElapsedTime'.\n",
    "\n",
    "So i use the Groupby().min() in Pandas for 'Origin', 'Dest' and 'ActualElapsedTime' to find the min 'ActualElapsedTime'. \n",
    "\n",
    "And loc() can show the dataframe i want.\n",
    "\n",
    "And using the describe() can calculate the mean, min, max of the value.\n",
    "\n"
   ]
  },
  {
   "cell_type": "markdown",
   "metadata": {},
   "source": [
    " print the fastest fligntnum and time of every flight."
   ]
  },
  {
   "cell_type": "code",
   "execution_count": 57,
   "metadata": {},
   "outputs": [
    {
     "name": "stdout",
     "output_type": "stream",
     "text": [
      "Here is what i want:\n",
      "              FlightNum  Distance  ActualElapsedTime\n",
      "Origin Dest                                        \n",
      "HOU    ABQ         726       759              117.0\n",
      "       ATL         286       696               94.0\n",
      "       AUS          38       148               36.0\n",
      "       BHM           5       570               76.0\n",
      "       BNA          23       670               87.0\n",
      "       BWI          45      1246              141.0\n",
      "       CRP           1       187               41.0\n",
      "       DAL           2       239               44.0\n",
      "       DEN         102       883              130.0\n",
      "       DFW        2870       247               56.0\n",
      "       ECP          15       570               73.0\n",
      "       ELP          37       677              103.0\n",
      "       FLL           7       957              118.0\n",
      "       HRL           1       276               49.0\n",
      "       JAN          19       359               55.0\n",
      "       JAX        1008       816              104.0\n",
      "       JFK         620      1428              165.0\n",
      "       LAS         181      1235              174.0\n",
      "       LAX          53      1390              195.0\n",
      "       LIT         389       393               59.0\n",
      "       MAF         150       441               75.0\n",
      "       MCO           1       848              107.0\n",
      "       MDW          27       937              122.0\n",
      "       MSY           5       303               48.0\n",
      "       OAK           9      1642              229.0\n",
      "       OKC         217       419               66.0\n",
      "       PHL           5      1335              155.0\n",
      "       PHX         125      1020              151.0\n",
      "       SAN         303      1312              178.0\n",
      "       SAT          32       192               44.0\n",
      "...                ...       ...                ...\n",
      "IAH    ORF        2171      1201              144.0\n",
      "       PBI        1630       956              120.0\n",
      "       PDX         209      1825              245.0\n",
      "       PHL         776      1324              162.0\n",
      "       PHX         138      1009              141.0\n",
      "       PIT         534      1117              140.0\n",
      "       PNS        2174       489               73.0\n",
      "       RDU         250      1043              128.0\n",
      "       RIC        2050      1157              140.0\n",
      "       RNO         343      1530              239.0\n",
      "       RSW        1462       861              112.0\n",
      "       SAN         403      1303              182.0\n",
      "       SAT           6       191               44.0\n",
      "       SAV        2229       851              107.0\n",
      "       SDF        2010       788              111.0\n",
      "       SEA         167      1874              258.0\n",
      "       SFO          92      1635              225.0\n",
      "       SHV        2354       192               44.0\n",
      "       SJC         421      1609              224.0\n",
      "       SJU         212      2007              228.0\n",
      "       SLC         252      1195              168.0\n",
      "       SMF        1644      1609              227.0\n",
      "       SNA         559      1347              192.0\n",
      "       STL        2026       668              100.0\n",
      "       TPA         206       787              101.0\n",
      "       TUL         442       429               71.0\n",
      "       TUS         528       936              137.0\n",
      "       TYS        2284       772              100.0\n",
      "       VPS        2744       528               76.0\n",
      "       XNA        2213       438               75.0\n",
      "\n",
      "[135 rows x 3 columns]\n"
     ]
    }
   ],
   "source": [
    "# print the fastest fligntnum and time of every flight.\n",
    "\n",
    "print(\"Here is what i want:\\n\",flights.groupby(['Origin','Dest']).min().loc[:,['FlightNum','Distance','ActualElapsedTime']])"
   ]
  },
  {
   "cell_type": "markdown",
   "metadata": {},
   "source": [
    "If i'm from HOU to JFK, print the fastest flight."
   ]
  },
  {
   "cell_type": "code",
   "execution_count": 14,
   "metadata": {},
   "outputs": [
    {
     "name": "stdout",
     "output_type": "stream",
     "text": [
      "FlightNum\n",
      "620    165.0\n",
      "622    179.0\n",
      "624    168.0\n",
      "Name: ActualElapsedTime, dtype: float64\n"
     ]
    }
   ],
   "source": [
    "# If i'm from HOU to JFK, print the fastest flight.\n",
    "# method 1\n",
    "\n",
    "f = flights[(flights['Origin'] == 'HOU') & (flights['Dest'] == 'JFK')]\n",
    "f = f.groupby('FlightNum').min().loc[:,'ActualElapsedTime']\n",
    "print(f)"
   ]
  },
  {
   "cell_type": "code",
   "execution_count": 15,
   "metadata": {},
   "outputs": [
    {
     "name": "stdout",
     "output_type": "stream",
     "text": [
      "165.0\n"
     ]
    }
   ],
   "source": [
    "# method 2\n",
    "\n",
    "f = flights[(flights['Origin'] == 'HOU') & (flights['Dest'] == 'JFK')]\n",
    "print(f['ActualElapsedTime'].describe()['min'])\n"
   ]
  },
  {
   "cell_type": "markdown",
   "metadata": {},
   "source": [
    "##### The visualization graphics i choosing is line plots and box plots"
   ]
  },
  {
   "cell_type": "code",
   "execution_count": 59,
   "metadata": {},
   "outputs": [
    {
     "data": {
      "text/plain": [
       "<matplotlib.axes._subplots.AxesSubplot at 0x7470ccdd30>"
      ]
     },
     "execution_count": 59,
     "metadata": {},
     "output_type": "execute_result"
    },
    {
     "data": {
      "image/png": "[encoded data removed]",
      "text/plain": [
       "<Figure size 432x288 with 1 Axes>"
      ]
     },
     "metadata": {
      "needs_background": "light"
     },
     "output_type": "display_data"
    }
   ],
   "source": [
    "# line plot of From IAH's ActualElapsedTime by Distance\n",
    "\n",
    "fplot = flights[flights['Origin'] == 'IAH'].plot(x = 'Distance', y = 'ActualElapsedTime')\n",
    "fplot"
   ]
  },
  {
   "cell_type": "markdown",
   "metadata": {},
   "source": [
    "##### the summary statistics for the these variable indicate that ActualElapsedTime is more and more with the Distance longer and longer. It has no meaning to show, just try creating of line plots."
   ]
  },
  {
   "cell_type": "code",
   "execution_count": 4,
   "metadata": {},
   "outputs": [
    {
     "data": {
      "text/plain": [
       "<matplotlib.axes._subplots.AxesSubplot at 0x51c7e37710>"
      ]
     },
     "execution_count": 4,
     "metadata": {},
     "output_type": "execute_result"
    },
    {
     "data": {
      "image/png": "[encoded data removed]",
      "text/plain": [
       "<Figure size 432x288 with 1 Axes>"
      ]
     },
     "metadata": {
      "needs_background": "light"
     },
     "output_type": "display_data"
    }
   ],
   "source": [
    "flights['ActualElapsedTime'].plot(kind = 'box')"
   ]
  },
  {
   "cell_type": "markdown",
   "metadata": {},
   "source": [
    "##### the summary statistics for the ActualElapsedTime variable indicate that huge part of flights from Houston are below 200 minutes, And the most is anout 100 minutes. Above 300 is few. Maybe few people in Houston would take planes more than 1 day."
   ]
  },
  {
   "cell_type": "markdown",
   "metadata": {},
   "source": [
    "### For the 3rd question:\n",
    "For a customer, the useful information in flights table is about date, flightsnum, origin, destination, if departure delay, and the if canceling.\n",
    "\n",
    "I choose the columns about these information and use the drop() to drop the columns i don't need.\n",
    "\n",
    "And rename() the columns to prevent confusing.\n",
    "\n",
    "In this test, i also try the other functions like delete() to deal with the data.\n"
   ]
  },
  {
   "cell_type": "code",
   "execution_count": 29,
   "metadata": {},
   "outputs": [
    {
     "name": "stdout",
     "output_type": "stream",
     "text": [
      "   Year  Month  DayofMonth  DayOfWeek  DepTime  ArrTime UniqueCarrier  \\\n",
      "0  2011      1           1          6   1400.0   1500.0            AA   \n",
      "\n",
      "   FlightNum TailNum  ActualElapsedTime   ...     ArrDelay  DepDelay  Origin  \\\n",
      "0        428  N576AA               60.0   ...        -10.0       0.0     IAH   \n",
      "\n",
      "  Dest Distance  TaxiIn  TaxiOut  Cancelled  CancellationCode Diverted  \n",
      "0  DFW      224     7.0     13.0          0               NaN        0  \n",
      "\n",
      "[1 rows x 21 columns]\n"
     ]
    }
   ],
   "source": [
    "print(flights.head(1))"
   ]
  },
  {
   "cell_type": "code",
   "execution_count": 51,
   "metadata": {},
   "outputs": [
    {
     "name": "stdout",
     "output_type": "stream",
     "text": [
      "     M  DoM  DepTime  ArrTime  FlightNum  ArrDelay  DepDelay Origin Dest  \\\n",
      "30   1   31   1441.0   1553.0        428      43.0      41.0    IAH  DFW   \n",
      "61   1   31    718.0    816.0        460     -19.0      -2.0    IAH  DFW   \n",
      "87   1   31   1954.0   2105.0        533     -15.0     -11.0    IAH  DFW   \n",
      "118  1   31   1656.0   1758.0       1121      13.0      26.0    IAH  DFW   \n",
      "149  1   31   1757.0   2101.0       1294     -14.0       2.0    IAH  MIA   \n",
      "170  1   31    941.0   1054.0       1436      29.0      31.0    IAH  DFW   \n",
      "201  1   31   1013.0   1336.0       1700      -4.0      -7.0    IAH  MIA   \n",
      "232  1   31   1205.0   1317.0       1820       7.0       0.0    IAH  DFW   \n",
      "272  1   31    556.0    857.0       1994     -18.0      -4.0    IAH  MIA   \n",
      "303  1   31   1827.0   2111.0        731       1.0       2.0    IAH  SEA   \n",
      "\n",
      "     Cancelled  \n",
      "30           0  \n",
      "61           0  \n",
      "87           0  \n",
      "118          0  \n",
      "149          0  \n",
      "170          0  \n",
      "201          0  \n",
      "232          0  \n",
      "272          0  \n",
      "303          0  \n"
     ]
    }
   ],
   "source": [
    "# Print the flight table just to show the information i need\n",
    "# example of 1-31-2011\n",
    "# method 1: drop\n",
    "\n",
    "# rename the columns to prevent confusing.\n",
    "flights = flights.rename({'Month':'M', 'DayofMonth': 'DoM', 'DayofWeek': 'DoW', 'CancellationCode': 'CoC'}, axis=1)\n",
    "\n",
    "# Here i want to replace the '-' using the 'early', but it didn't work.\n",
    "#flights.DepDelay.replace('-%', 'early')\n",
    "\n",
    "flights = flights.drop(flights.columns[[0, 3, 6, 8, 9, 10,-6, -5, -4, -2, -1]], axis=1) \n",
    "f = flights[(flights['M'] == 1) & (flights['DoM'] == 31)]\n",
    "print(f.head(10))"
   ]
  },
  {
   "cell_type": "markdown",
   "metadata": {},
   "source": [
    "##### After drop(), the The original data has not replaced."
   ]
  },
  {
   "cell_type": "code",
   "execution_count": 53,
   "metadata": {},
   "outputs": [
    {
     "name": "stdout",
     "output_type": "stream",
     "text": [
      "   Year  Month  DayofMonth  DayOfWeek  DepTime  ArrTime UniqueCarrier  \\\n",
      "0  2011      1           1          6   1400.0   1500.0            AA   \n",
      "1  2011      1           2          7   1401.0   1501.0            AA   \n",
      "2  2011      1           3          1   1352.0   1502.0            AA   \n",
      "3  2011      1           4          2   1403.0   1513.0            AA   \n",
      "4  2011      1           5          3   1405.0   1507.0            AA   \n",
      "\n",
      "   FlightNum TailNum  ActualElapsedTime   ...     ArrDelay  DepDelay  Origin  \\\n",
      "0        428  N576AA               60.0   ...        -10.0       0.0     IAH   \n",
      "1        428  N557AA               60.0   ...         -9.0       1.0     IAH   \n",
      "2        428  N541AA               70.0   ...         -8.0      -8.0     IAH   \n",
      "3        428  N403AA               70.0   ...          3.0       3.0     IAH   \n",
      "4        428  N492AA               62.0   ...         -3.0       5.0     IAH   \n",
      "\n",
      "  Dest Distance  TaxiIn  TaxiOut  Cancelled  CancellationCode Diverted  \n",
      "0  DFW      224     7.0     13.0          0               NaN        0  \n",
      "1  DFW      224     6.0      9.0          0               NaN        0  \n",
      "2  DFW      224     5.0     17.0          0               NaN        0  \n",
      "3  DFW      224     9.0     22.0          0               NaN        0  \n",
      "4  DFW      224     9.0      9.0          0               NaN        0  \n",
      "\n",
      "[5 rows x 21 columns]\n"
     ]
    }
   ],
   "source": [
    "print(flights.head())"
   ]
  },
  {
   "cell_type": "code",
   "execution_count": 48,
   "metadata": {},
   "outputs": [
    {
     "name": "stdout",
     "output_type": "stream",
     "text": [
      "    Month  DayofMonth  DepTime  ArrTime  FlightNum  ArrDelay  DepDelay Origin  \\\n",
      "30      1          31   1441.0   1553.0        428      43.0      41.0    IAH   \n",
      "61      1          31    718.0    816.0        460     -19.0      -2.0    IAH   \n",
      "87      1          31   1954.0   2105.0        533     -15.0     -11.0    IAH   \n",
      "\n",
      "   Dest  Cancelled  \n",
      "30  DFW          0  \n",
      "61  DFW          0  \n",
      "87  DFW          0  \n"
     ]
    }
   ],
   "source": [
    "# method 2 \n",
    "\n",
    "flights = flights.iloc[:,[1,2,4,5,7,11,12,13,14,-3]]\n",
    "f = flights[(flights['Month'] == 1) & (flights['DayofMonth'] == 31)]\n",
    "print(f.head(3))"
   ]
  },
  {
   "cell_type": "markdown",
   "metadata": {},
   "source": [
    "##### The visualization graphics i choosing is text table"
   ]
  },
  {
   "cell_type": "code",
   "execution_count": 55,
   "metadata": {},
   "outputs": [
    {
     "data": {
      "text/html": [
       "<div>\n",
       "<style scoped>\n",
       "    .dataframe tbody tr th:only-of-type {\n",
       "        vertical-align: middle;\n",
       "    }\n",
       "\n",
       "    .dataframe tbody tr th {\n",
       "        vertical-align: top;\n",
       "    }\n",
       "\n",
       "    .dataframe thead th {\n",
       "        text-align: right;\n",
       "    }\n",
       "</style>\n",
       "<table border=\"1\" class=\"dataframe\">\n",
       "  <thead>\n",
       "    <tr style=\"text-align: right;\">\n",
       "      <th></th>\n",
       "      <th>Month</th>\n",
       "      <th>DayofMonth</th>\n",
       "      <th>DepTime</th>\n",
       "      <th>ArrTime</th>\n",
       "      <th>FlightNum</th>\n",
       "      <th>ArrDelay</th>\n",
       "      <th>DepDelay</th>\n",
       "      <th>Origin</th>\n",
       "      <th>Dest</th>\n",
       "      <th>Cancelled</th>\n",
       "    </tr>\n",
       "  </thead>\n",
       "  <tbody>\n",
       "    <tr>\n",
       "      <th>0</th>\n",
       "      <td>1</td>\n",
       "      <td>1</td>\n",
       "      <td>1400.0</td>\n",
       "      <td>1500.0</td>\n",
       "      <td>428</td>\n",
       "      <td>-10.0</td>\n",
       "      <td>0.0</td>\n",
       "      <td>IAH</td>\n",
       "      <td>DFW</td>\n",
       "      <td>0</td>\n",
       "    </tr>\n",
       "    <tr>\n",
       "      <th>1</th>\n",
       "      <td>1</td>\n",
       "      <td>2</td>\n",
       "      <td>1401.0</td>\n",
       "      <td>1501.0</td>\n",
       "      <td>428</td>\n",
       "      <td>-9.0</td>\n",
       "      <td>1.0</td>\n",
       "      <td>IAH</td>\n",
       "      <td>DFW</td>\n",
       "      <td>0</td>\n",
       "    </tr>\n",
       "    <tr>\n",
       "      <th>2</th>\n",
       "      <td>1</td>\n",
       "      <td>3</td>\n",
       "      <td>1352.0</td>\n",
       "      <td>1502.0</td>\n",
       "      <td>428</td>\n",
       "      <td>-8.0</td>\n",
       "      <td>-8.0</td>\n",
       "      <td>IAH</td>\n",
       "      <td>DFW</td>\n",
       "      <td>0</td>\n",
       "    </tr>\n",
       "    <tr>\n",
       "      <th>3</th>\n",
       "      <td>1</td>\n",
       "      <td>4</td>\n",
       "      <td>1403.0</td>\n",
       "      <td>1513.0</td>\n",
       "      <td>428</td>\n",
       "      <td>3.0</td>\n",
       "      <td>3.0</td>\n",
       "      <td>IAH</td>\n",
       "      <td>DFW</td>\n",
       "      <td>0</td>\n",
       "    </tr>\n",
       "    <tr>\n",
       "      <th>4</th>\n",
       "      <td>1</td>\n",
       "      <td>5</td>\n",
       "      <td>1405.0</td>\n",
       "      <td>1507.0</td>\n",
       "      <td>428</td>\n",
       "      <td>-3.0</td>\n",
       "      <td>5.0</td>\n",
       "      <td>IAH</td>\n",
       "      <td>DFW</td>\n",
       "      <td>0</td>\n",
       "    </tr>\n",
       "    <tr>\n",
       "      <th>5</th>\n",
       "      <td>1</td>\n",
       "      <td>6</td>\n",
       "      <td>1359.0</td>\n",
       "      <td>1503.0</td>\n",
       "      <td>428</td>\n",
       "      <td>-7.0</td>\n",
       "      <td>-1.0</td>\n",
       "      <td>IAH</td>\n",
       "      <td>DFW</td>\n",
       "      <td>0</td>\n",
       "    </tr>\n",
       "    <tr>\n",
       "      <th>6</th>\n",
       "      <td>1</td>\n",
       "      <td>7</td>\n",
       "      <td>1359.0</td>\n",
       "      <td>1509.0</td>\n",
       "      <td>428</td>\n",
       "      <td>-1.0</td>\n",
       "      <td>-1.0</td>\n",
       "      <td>IAH</td>\n",
       "      <td>DFW</td>\n",
       "      <td>0</td>\n",
       "    </tr>\n",
       "    <tr>\n",
       "      <th>7</th>\n",
       "      <td>1</td>\n",
       "      <td>8</td>\n",
       "      <td>1355.0</td>\n",
       "      <td>1454.0</td>\n",
       "      <td>428</td>\n",
       "      <td>-16.0</td>\n",
       "      <td>-5.0</td>\n",
       "      <td>IAH</td>\n",
       "      <td>DFW</td>\n",
       "      <td>0</td>\n",
       "    </tr>\n",
       "    <tr>\n",
       "      <th>8</th>\n",
       "      <td>1</td>\n",
       "      <td>9</td>\n",
       "      <td>1443.0</td>\n",
       "      <td>1554.0</td>\n",
       "      <td>428</td>\n",
       "      <td>44.0</td>\n",
       "      <td>43.0</td>\n",
       "      <td>IAH</td>\n",
       "      <td>DFW</td>\n",
       "      <td>0</td>\n",
       "    </tr>\n",
       "    <tr>\n",
       "      <th>9</th>\n",
       "      <td>1</td>\n",
       "      <td>10</td>\n",
       "      <td>1443.0</td>\n",
       "      <td>1553.0</td>\n",
       "      <td>428</td>\n",
       "      <td>43.0</td>\n",
       "      <td>43.0</td>\n",
       "      <td>IAH</td>\n",
       "      <td>DFW</td>\n",
       "      <td>0</td>\n",
       "    </tr>\n",
       "  </tbody>\n",
       "</table>\n",
       "</div>"
      ],
      "text/plain": [
       "   Month  DayofMonth  DepTime  ArrTime  FlightNum  ArrDelay  DepDelay Origin  \\\n",
       "0      1           1   1400.0   1500.0        428     -10.0       0.0    IAH   \n",
       "1      1           2   1401.0   1501.0        428      -9.0       1.0    IAH   \n",
       "2      1           3   1352.0   1502.0        428      -8.0      -8.0    IAH   \n",
       "3      1           4   1403.0   1513.0        428       3.0       3.0    IAH   \n",
       "4      1           5   1405.0   1507.0        428      -3.0       5.0    IAH   \n",
       "5      1           6   1359.0   1503.0        428      -7.0      -1.0    IAH   \n",
       "6      1           7   1359.0   1509.0        428      -1.0      -1.0    IAH   \n",
       "7      1           8   1355.0   1454.0        428     -16.0      -5.0    IAH   \n",
       "8      1           9   1443.0   1554.0        428      44.0      43.0    IAH   \n",
       "9      1          10   1443.0   1553.0        428      43.0      43.0    IAH   \n",
       "\n",
       "  Dest  Cancelled  \n",
       "0  DFW          0  \n",
       "1  DFW          0  \n",
       "2  DFW          0  \n",
       "3  DFW          0  \n",
       "4  DFW          0  \n",
       "5  DFW          0  \n",
       "6  DFW          0  \n",
       "7  DFW          0  \n",
       "8  DFW          0  \n",
       "9  DFW          0  "
      ]
     },
     "execution_count": 55,
     "metadata": {},
     "output_type": "execute_result"
    }
   ],
   "source": [
    "filename = \"https://raw.githubusercontent.com/jtopor/DAV-5400/master/Project1/hflights.csv\"\n",
    "flights = pd.read_csv(filename)\n",
    "flights = flights.iloc[:,[1,2,4,5,7,11,12,13,14,-3]]\n",
    "flights.head(10)"
   ]
  },
  {
   "cell_type": "markdown",
   "metadata": {},
   "source": [
    "##### This text table is like the flights table in the airports. Customers can get the information about their flights from it. It is clear and useful."
   ]
  }
 ],
 "metadata": {
  "kernelspec": {
   "display_name": "Python 3",
   "language": "python",
   "name": "python3"
  },
  "language_info": {
   "codemirror_mode": {
    "name": "ipython",
    "version": 3
   },
   "file_extension": ".py",
   "mimetype": "text/x-python",
   "name": "python",
   "nbconvert_exporter": "python",
   "pygments_lexer": "ipython3",
   "version": "3.7.0"
  }
 },
 "nbformat": 4,
 "nbformat_minor": 2
}
