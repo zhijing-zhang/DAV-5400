{
 "cells": [
  {
   "cell_type": "markdown",
   "metadata": {},
   "source": [
    "#### Hi, this is Zhijing Zhang\n",
    "##### This is my week1-assignment\n",
    "\n",
    "##### Here is my link to github copy of the [data set][1], and here is my link to [original location][2] of the data\n",
    "[1]: https://github.com/zhijing-zhang/DAV-5400/blob/master/chorales.doc\n",
    "[2]: https://archive.ics.uci.edu/ml/datasets/Bach+Chorales\n",
    "\n",
    "This is a data set about music, which is found by Other in Area, in fact, i haven't understood how to use the data set  and its content. So i'm writting what i see in this data set. \n",
    "\n",
    "\n",
    "* From the subcategory i see some basic information about it, including: title, sources, past usage, success example, synopsis, number of instances, number of attributes, attribute domain, missing attribute values, class distribution, and the grammar describing the chorale dataset.\n",
    "\n",
    "* I can see code in the file, and most of them have a specific pointing, which cover mathmatics, logic, and some grammar.\n",
    "\n",
    "\n",
    "* From the discribtion, i know that these information examines the prediction and generation of music using a multiple viewpoint system, and the modles are used for analysis and prediction,also can generate original. \n",
    "\n",
    "* The Number of Attributes maybe used as virables in coding and the attribute domains like the ranges of them. \n",
    "\n",
    "I think the questions i have is something primary, like what are they? Where are they used? How to use them? Why i use them? And  can i create a data set like this in the future?……\n",
    "\n",
    "These are all of my sights for week1-assignment. Actually, it spent more time than i expected. I hope i can learn it well in the future study.\n",
    "\n",
    "\n",
    "\n",
    "\n"
   ]
  },
  {
   "cell_type": "code",
   "execution_count": null,
   "metadata": {},
   "outputs": [],
   "source": []
  }
 ],
 "metadata": {
  "kernelspec": {
   "display_name": "Python 3",
   "language": "python",
   "name": "python3"
  },
  "language_info": {
   "codemirror_mode": {
    "name": "ipython",
    "version": 3
   },
   "file_extension": ".py",
   "mimetype": "text/x-python",
   "name": "python",
   "nbconvert_exporter": "python",
   "pygments_lexer": "ipython3",
   "version": "3.7.0"
  }
 },
 "nbformat": 4,
 "nbformat_minor": 2
}
